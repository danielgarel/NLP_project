{
 "cells": [
  {
   "cell_type": "code",
   "execution_count": 1637,
   "metadata": {},
   "outputs": [],
   "source": [
    "import os\n",
    "import random\n",
    "import numpy as np\n",
    "import pickle as pkl\n",
    "import scipy.sparse as sp\n",
    "import sys\n",
    "from tqdm import tqdm"
   ]
  },
  {
   "cell_type": "code",
   "execution_count": 1638,
   "metadata": {},
   "outputs": [],
   "source": [
    "with open(\"data/ind.question1_sub_bal.ty\", 'rb') as f:    \n",
    "    y_true = pkl.load(f)"
   ]
  },
  {
   "cell_type": "code",
   "execution_count": 1639,
   "metadata": {},
   "outputs": [],
   "source": [
    "y_true = np.argmax(y_true, axis=1)"
   ]
  },
  {
   "cell_type": "code",
   "execution_count": 1640,
   "metadata": {},
   "outputs": [
    {
     "data": {
      "text/plain": [
       "array([0, 0, 1, ..., 0, 0, 1])"
      ]
     },
     "execution_count": 1640,
     "metadata": {},
     "output_type": "execute_result"
    }
   ],
   "source": [
    "y_true"
   ]
  },
  {
   "cell_type": "code",
   "execution_count": 1641,
   "metadata": {},
   "outputs": [],
   "source": [
    "y_pred = np.loadtxt(\"gnn_pred2_win4.csv\")"
   ]
  },
  {
   "cell_type": "code",
   "execution_count": 1642,
   "metadata": {},
   "outputs": [
    {
     "data": {
      "text/plain": [
       "array([0., 0., 1., ..., 0., 0., 1.])"
      ]
     },
     "execution_count": 1642,
     "metadata": {},
     "output_type": "execute_result"
    }
   ],
   "source": [
    "y_pred"
   ]
  },
  {
   "cell_type": "code",
   "execution_count": 1643,
   "metadata": {},
   "outputs": [],
   "source": [
    "ind_short = np.loadtxt(\"short_sents.txt\").astype(np.int)"
   ]
  },
  {
   "cell_type": "code",
   "execution_count": 1644,
   "metadata": {},
   "outputs": [
    {
     "data": {
      "text/plain": [
       "array([   0,    1,    2, ..., 9985, 9992, 9993])"
      ]
     },
     "execution_count": 1644,
     "metadata": {},
     "output_type": "execute_result"
    }
   ],
   "source": [
    "ind_short"
   ]
  },
  {
   "cell_type": "code",
   "execution_count": 1645,
   "metadata": {},
   "outputs": [],
   "source": [
    "y_true_short = y_true[ind_short]"
   ]
  },
  {
   "cell_type": "code",
   "execution_count": 1646,
   "metadata": {},
   "outputs": [
    {
     "data": {
      "text/plain": [
       "(4756,)"
      ]
     },
     "execution_count": 1646,
     "metadata": {},
     "output_type": "execute_result"
    }
   ],
   "source": [
    "y_true_short.shape"
   ]
  },
  {
   "cell_type": "code",
   "execution_count": 1647,
   "metadata": {},
   "outputs": [],
   "source": [
    "y_pred_short = y_pred[ind_short]"
   ]
  },
  {
   "cell_type": "code",
   "execution_count": 1648,
   "metadata": {},
   "outputs": [],
   "source": [
    "ind_medium = np.loadtxt(\"medium_sents.txt\").astype(np.int)"
   ]
  },
  {
   "cell_type": "code",
   "execution_count": 1649,
   "metadata": {},
   "outputs": [],
   "source": [
    "y_true_medium = y_true[ind_medium]"
   ]
  },
  {
   "cell_type": "code",
   "execution_count": 1650,
   "metadata": {},
   "outputs": [],
   "source": [
    "y_pred_medium = y_pred[ind_medium]"
   ]
  },
  {
   "cell_type": "code",
   "execution_count": 1651,
   "metadata": {},
   "outputs": [],
   "source": [
    "ind_long = np.loadtxt(\"long_sents.txt\").astype(np.int)"
   ]
  },
  {
   "cell_type": "code",
   "execution_count": 1652,
   "metadata": {},
   "outputs": [],
   "source": [
    "y_true_long = y_true[ind_long]"
   ]
  },
  {
   "cell_type": "code",
   "execution_count": 1653,
   "metadata": {},
   "outputs": [],
   "source": [
    "y_pred_long = y_pred[ind_long]"
   ]
  },
  {
   "cell_type": "code",
   "execution_count": 1654,
   "metadata": {},
   "outputs": [],
   "source": [
    "ind_mixed = np.loadtxt(\"unmatched_len.txt\").astype(np.int)"
   ]
  },
  {
   "cell_type": "code",
   "execution_count": 1655,
   "metadata": {},
   "outputs": [],
   "source": [
    "y_true_mixed = y_true[ind_mixed]"
   ]
  },
  {
   "cell_type": "code",
   "execution_count": 1656,
   "metadata": {},
   "outputs": [],
   "source": [
    "y_pred_mixed = y_pred[ind_mixed]"
   ]
  },
  {
   "cell_type": "code",
   "execution_count": 1657,
   "metadata": {},
   "outputs": [],
   "source": [
    "ind_inductive = np.loadtxt(\"inductive_ind.txt\").astype(np.int)"
   ]
  },
  {
   "cell_type": "code",
   "execution_count": 1658,
   "metadata": {},
   "outputs": [],
   "source": [
    "y_true_inductive = y_true[ind_inductive]"
   ]
  },
  {
   "cell_type": "code",
   "execution_count": 1659,
   "metadata": {},
   "outputs": [],
   "source": [
    "y_pred_inductive = y_pred[ind_inductive]"
   ]
  },
  {
   "cell_type": "code",
   "execution_count": 1660,
   "metadata": {},
   "outputs": [],
   "source": [
    "y_true_n_inductive = y_true[[i for i in range(9999) if i not in ind_inductive]]"
   ]
  },
  {
   "cell_type": "code",
   "execution_count": 1661,
   "metadata": {},
   "outputs": [],
   "source": [
    "y_pred_n_inductive = y_pred[[i for i in range(9999) if i not in ind_inductive]]"
   ]
  },
  {
   "cell_type": "code",
   "execution_count": 1662,
   "metadata": {},
   "outputs": [],
   "source": [
    "from sklearn import metrics"
   ]
  },
  {
   "cell_type": "code",
   "execution_count": 1663,
   "metadata": {},
   "outputs": [
    {
     "name": "stdout",
     "output_type": "stream",
     "text": [
      "              precision    recall  f1-score   support\n",
      "\n",
      "           0     0.8891    0.7244    0.7983      2910\n",
      "           1     0.6637    0.8575    0.7483      1846\n",
      "\n",
      "    accuracy                         0.7761      4756\n",
      "   macro avg     0.7764    0.7910    0.7733      4756\n",
      "weighted avg     0.8016    0.7761    0.7789      4756\n",
      "\n"
     ]
    }
   ],
   "source": [
    "print(metrics.classification_report(y_true_short, y_pred_short, digits=4))"
   ]
  },
  {
   "cell_type": "code",
   "execution_count": 1664,
   "metadata": {},
   "outputs": [
    {
     "name": "stdout",
     "output_type": "stream",
     "text": [
      "              precision    recall  f1-score   support\n",
      "\n",
      "           0     0.9066    0.7430    0.8167      1490\n",
      "           1     0.6749    0.8746    0.7619       909\n",
      "\n",
      "    accuracy                         0.7928      2399\n",
      "   macro avg     0.7908    0.8088    0.7893      2399\n",
      "weighted avg     0.8188    0.7928    0.7959      2399\n",
      "\n"
     ]
    }
   ],
   "source": [
    "print(metrics.classification_report(y_true_medium, y_pred_medium, digits=4))"
   ]
  },
  {
   "cell_type": "code",
   "execution_count": 1665,
   "metadata": {},
   "outputs": [
    {
     "name": "stdout",
     "output_type": "stream",
     "text": [
      "              precision    recall  f1-score   support\n",
      "\n",
      "           0     0.9167    0.7857    0.8462        14\n",
      "           1     0.6667    0.8571    0.7500         7\n",
      "\n",
      "    accuracy                         0.8095        21\n",
      "   macro avg     0.7917    0.8214    0.7981        21\n",
      "weighted avg     0.8333    0.8095    0.8141        21\n",
      "\n"
     ]
    }
   ],
   "source": [
    "print(metrics.classification_report(y_true_long, y_pred_long, digits=4))"
   ]
  },
  {
   "cell_type": "code",
   "execution_count": 1666,
   "metadata": {},
   "outputs": [
    {
     "name": "stdout",
     "output_type": "stream",
     "text": [
      "              precision    recall  f1-score   support\n",
      "\n",
      "           0     0.8962    0.7536    0.8187      1798\n",
      "           1     0.6608    0.8461    0.7420      1020\n",
      "\n",
      "    accuracy                         0.7871      2818\n",
      "   macro avg     0.7785    0.7998    0.7804      2818\n",
      "weighted avg     0.8110    0.7871    0.7910      2818\n",
      "\n"
     ]
    }
   ],
   "source": [
    "print(metrics.classification_report(y_true_mixed, y_pred_mixed, digits=4))"
   ]
  },
  {
   "cell_type": "code",
   "execution_count": 1667,
   "metadata": {},
   "outputs": [
    {
     "name": "stdout",
     "output_type": "stream",
     "text": [
      "              precision    recall  f1-score   support\n",
      "\n",
      "           0     0.8826    0.7368    0.8031       969\n",
      "           1     0.6764    0.8487    0.7528       628\n",
      "\n",
      "    accuracy                         0.7808      1597\n",
      "   macro avg     0.7795    0.7928    0.7780      1597\n",
      "weighted avg     0.8015    0.7808    0.7834      1597\n",
      "\n"
     ]
    }
   ],
   "source": [
    "print(metrics.classification_report(y_true_inductive, y_pred_inductive, digits=4))"
   ]
  },
  {
   "cell_type": "code",
   "execution_count": 1668,
   "metadata": {},
   "outputs": [
    {
     "name": "stdout",
     "output_type": "stream",
     "text": [
      "              precision    recall  f1-score   support\n",
      "\n",
      "           0     0.8979    0.7377    0.8100      5246\n",
      "           1     0.6637    0.8606    0.7494      3156\n",
      "\n",
      "    accuracy                         0.7839      8402\n",
      "   macro avg     0.7808    0.7991    0.7797      8402\n",
      "weighted avg     0.8099    0.7839    0.7872      8402\n",
      "\n"
     ]
    }
   ],
   "source": [
    "print(metrics.classification_report(y_true_n_inductive, y_pred_n_inductive, digits=4))"
   ]
  },
  {
   "cell_type": "code",
   "execution_count": 1669,
   "metadata": {},
   "outputs": [
    {
     "name": "stdout",
     "output_type": "stream",
     "text": [
      "              precision    recall  f1-score   support\n",
      "\n",
      "           0     0.8955    0.7376    0.8089      6215\n",
      "           1     0.6658    0.8586    0.7500      3784\n",
      "\n",
      "    accuracy                         0.7834      9999\n",
      "   macro avg     0.7806    0.7981    0.7794      9999\n",
      "weighted avg     0.8086    0.7834    0.7866      9999\n",
      "\n"
     ]
    }
   ],
   "source": [
    "print(metrics.classification_report(y_true, y_pred, digits=4))"
   ]
  },
  {
   "cell_type": "code",
   "execution_count": 1670,
   "metadata": {},
   "outputs": [
    {
     "data": {
      "text/plain": [
       "((4756,), (2399,), (21,), (2818,), (9999,))"
      ]
     },
     "execution_count": 1670,
     "metadata": {},
     "output_type": "execute_result"
    }
   ],
   "source": [
    "y_true_short.shape, y_true_medium.shape, y_true_long.shape, y_true_mixed.shape, y_true.shape"
   ]
  },
  {
   "cell_type": "code",
   "execution_count": 1671,
   "metadata": {},
   "outputs": [
    {
     "data": {
      "text/plain": [
       "array([   9,   24,   28, ..., 9995, 9997, 9998])"
      ]
     },
     "execution_count": 1671,
     "metadata": {},
     "output_type": "execute_result"
    }
   ],
   "source": [
    "ind_inductive"
   ]
  },
  {
   "cell_type": "code",
   "execution_count": 1672,
   "metadata": {},
   "outputs": [
    {
     "data": {
      "text/plain": [
       "(array([   0,    1,    2, ..., 9985, 9992, 9993]),\n",
       " array([   4,    5,   13, ..., 9988, 9989, 9991]),\n",
       " array([   7,  306,  790,  795, 1408, 1970, 2362, 3235, 3238, 3260, 3316,\n",
       "        5128, 5175, 5585, 8165, 8171, 8274, 8497, 8604, 9424, 9779]),\n",
       " array([   6,    8,   16, ..., 9981, 9983, 9990]))"
      ]
     },
     "execution_count": 1672,
     "metadata": {},
     "output_type": "execute_result"
    }
   ],
   "source": [
    "ind_short, ind_medium, ind_long, ind_mixed"
   ]
  },
  {
   "cell_type": "code",
   "execution_count": 1673,
   "metadata": {},
   "outputs": [],
   "source": [
    "y_pred_gnn = np.loadtxt(\"gnn_pred4_win4.csv\")"
   ]
  },
  {
   "cell_type": "code",
   "execution_count": 1674,
   "metadata": {},
   "outputs": [],
   "source": [
    "y_pred_dnn = np.loadtxt(\"dnn_pred.csv\")"
   ]
  },
  {
   "cell_type": "code",
   "execution_count": 1675,
   "metadata": {},
   "outputs": [],
   "source": [
    "indices = np.where(y_pred_gnn != y_pred_dnn)[0]"
   ]
  },
  {
   "cell_type": "code",
   "execution_count": 1676,
   "metadata": {},
   "outputs": [],
   "source": [
    "y_pred_gnn_dif = y_pred_gnn[indices]"
   ]
  },
  {
   "cell_type": "code",
   "execution_count": 1677,
   "metadata": {},
   "outputs": [],
   "source": [
    "y_pred_dnn_dif = y_pred_dnn[indices]"
   ]
  },
  {
   "cell_type": "code",
   "execution_count": 1678,
   "metadata": {},
   "outputs": [],
   "source": [
    "y_true_diff = y_true[indices]"
   ]
  },
  {
   "cell_type": "code",
   "execution_count": 1679,
   "metadata": {},
   "outputs": [
    {
     "name": "stdout",
     "output_type": "stream",
     "text": [
      "              precision    recall  f1-score   support\n",
      "\n",
      "           0     0.6991    0.6900    0.6945      1145\n",
      "           1     0.2843    0.2931    0.2886       481\n",
      "\n",
      "    accuracy                         0.5726      1626\n",
      "   macro avg     0.4917    0.4915    0.4916      1626\n",
      "weighted avg     0.5764    0.5726    0.5744      1626\n",
      "\n"
     ]
    }
   ],
   "source": [
    "print(metrics.classification_report(y_true_diff, y_pred_gnn_dif, digits=4))"
   ]
  },
  {
   "cell_type": "code",
   "execution_count": 1680,
   "metadata": {},
   "outputs": [
    {
     "name": "stdout",
     "output_type": "stream",
     "text": [
      "              precision    recall  f1-score   support\n",
      "\n",
      "           0     0.7157    0.3100    0.4327      1145\n",
      "           1     0.3009    0.7069    0.4221       481\n",
      "\n",
      "    accuracy                         0.4274      1626\n",
      "   macro avg     0.5083    0.5085    0.4274      1626\n",
      "weighted avg     0.5930    0.4274    0.4295      1626\n",
      "\n"
     ]
    }
   ],
   "source": [
    "print(metrics.classification_report(y_true_diff, y_pred_dnn_dif, digits=4))"
   ]
  },
  {
   "cell_type": "code",
   "execution_count": 1681,
   "metadata": {},
   "outputs": [
    {
     "data": {
      "text/plain": [
       "(931,)"
      ]
     },
     "execution_count": 1681,
     "metadata": {},
     "output_type": "execute_result"
    }
   ],
   "source": [
    "np.where(y_pred_gnn_dif == y_true_diff)[0].shape"
   ]
  },
  {
   "cell_type": "code",
   "execution_count": 1682,
   "metadata": {},
   "outputs": [
    {
     "data": {
      "text/plain": [
       "array([   0,    2,    5,    8,    9,   10,   11,   12,   13,   18,   19,\n",
       "         22,   23,   24,   25,   26,   27,   31,   34,   36,   38,   39,\n",
       "         40,   41,   42,   43,   45,   46,   47,   50,   52,   55,   60,\n",
       "         61,   62,   64,   65,   69,   70,   73,   75,   77,   78,   83,\n",
       "         84,   85,   87,   88,   90,   92,   94,   98,   99,  100,  106,\n",
       "        107,  108,  109,  110,  111,  114,  117,  123,  126,  128,  129,\n",
       "        131,  132,  133,  135,  137,  139,  141,  142,  145,  146,  152,\n",
       "        153,  158,  161,  162,  166,  169,  170,  175,  177,  178,  179,\n",
       "        182,  183,  184,  186,  189,  191,  194,  196,  197,  200,  201,\n",
       "        203,  204,  207,  212,  216,  221,  222,  223,  225,  226,  228,\n",
       "        232,  233,  239,  241,  249,  254,  264,  267,  268,  269,  271,\n",
       "        272,  273,  277,  282,  283,  284,  285,  286,  287,  288,  290,\n",
       "        294,  295,  296,  298,  299,  300,  303,  304,  307,  309,  312,\n",
       "        313,  314,  315,  317,  322,  326,  327,  337,  338,  340,  348,\n",
       "        349,  352,  354,  355,  356,  359,  360,  362,  363,  365,  367,\n",
       "        372,  377,  381,  388,  389,  392,  393,  395,  401,  403,  405,\n",
       "        406,  408,  409,  412,  426,  427,  433,  435,  443,  445,  447,\n",
       "        450,  452,  454,  455,  457,  458,  459,  460,  461,  463,  468,\n",
       "        469,  471,  472,  474,  480,  481,  485,  487,  488,  489,  491,\n",
       "        492,  494,  495,  497,  498,  501,  502,  503,  507,  509,  512,\n",
       "        513,  514,  520,  523,  525,  526,  527,  529,  530,  531,  534,\n",
       "        538,  540,  541,  545,  546,  547,  548,  551,  555,  556,  557,\n",
       "        558,  562,  566,  567,  571,  573,  574,  576,  578,  579,  582,\n",
       "        583,  586,  587,  588,  589,  590,  591,  594,  600,  601,  604,\n",
       "        608,  610,  620,  623,  625,  626,  631,  637,  639,  640,  642,\n",
       "        644,  645,  650,  651,  652,  653,  658,  660,  661,  662,  663,\n",
       "        666,  670,  671,  673,  676,  677,  679,  680,  683,  684,  686,\n",
       "        688,  690,  691,  692,  694,  695,  698,  700,  701,  707,  709,\n",
       "        710,  713,  715,  718,  719,  722,  723,  726,  728,  730,  732,\n",
       "        733,  734,  735,  736,  746,  749,  750,  759,  760,  762,  767,\n",
       "        769,  770,  772,  776,  777,  780,  782,  785,  787,  789,  790,\n",
       "        791,  796,  797,  798,  804,  806,  807,  811,  812,  814,  816,\n",
       "        817,  818,  820,  821,  825,  827,  830,  832,  833,  834,  836,\n",
       "        839,  840,  842,  843,  844,  845,  846,  849,  850,  852,  853,\n",
       "        855,  856,  857,  859,  863,  865,  866,  869,  871,  872,  874,\n",
       "        875,  877,  878,  880,  881,  882,  884,  888,  889,  891,  892,\n",
       "        894,  897,  898,  899,  900,  903,  905,  906,  907,  908,  910,\n",
       "        911,  915,  916,  921,  927,  930,  933,  934,  935,  936,  938,\n",
       "        939,  942,  943,  944,  946,  950,  954,  958,  960,  961,  963,\n",
       "        964,  965,  969,  972,  973,  974,  978,  979,  980,  982,  985,\n",
       "        986,  987,  991,  993,  995, 1003, 1006, 1009, 1010, 1015, 1021,\n",
       "       1022, 1024, 1029, 1031, 1032, 1034, 1037, 1038, 1042, 1043, 1046,\n",
       "       1049, 1050, 1051, 1053, 1061, 1062, 1066, 1069, 1070, 1073, 1074,\n",
       "       1077, 1078, 1080, 1081, 1082, 1085, 1087, 1088, 1090, 1095, 1096,\n",
       "       1101, 1102, 1103, 1109, 1112, 1113, 1114, 1117, 1119, 1121, 1122,\n",
       "       1124, 1127, 1128, 1129, 1131, 1132, 1133, 1135, 1141, 1144, 1153,\n",
       "       1155, 1157, 1160, 1163, 1164, 1167, 1168, 1169, 1170, 1171, 1175,\n",
       "       1178, 1180, 1181, 1183, 1185, 1186, 1188, 1189, 1192, 1197, 1200,\n",
       "       1205, 1206, 1207, 1208, 1214, 1215, 1217, 1220, 1221, 1223, 1224,\n",
       "       1227, 1228, 1229, 1230, 1233, 1235, 1238, 1240, 1243, 1251, 1252,\n",
       "       1253, 1255, 1257, 1259, 1260, 1261, 1262, 1265, 1266, 1267, 1268,\n",
       "       1270, 1271, 1273, 1274, 1276, 1278, 1279, 1281, 1285, 1288, 1294,\n",
       "       1296, 1298, 1300, 1301, 1304, 1305, 1308, 1309, 1310, 1311, 1313,\n",
       "       1315, 1316, 1318, 1323, 1324, 1326, 1329, 1333, 1336, 1340, 1341,\n",
       "       1344, 1345, 1350, 1358, 1363, 1367, 1368, 1369, 1370, 1375, 1379,\n",
       "       1383, 1384, 1385, 1387, 1388, 1390, 1394, 1398, 1403, 1404, 1405,\n",
       "       1409, 1410, 1413, 1417, 1419, 1427, 1428, 1430, 1431, 1433, 1434,\n",
       "       1438, 1441, 1444, 1446, 1447, 1448, 1450, 1451, 1452, 1456, 1458,\n",
       "       1462, 1464, 1469, 1472, 1473, 1476, 1477, 1482, 1485, 1486, 1487,\n",
       "       1490, 1493, 1497, 1499, 1500, 1504, 1505, 1508, 1510, 1511, 1513,\n",
       "       1524, 1531, 1537, 1539, 1541, 1543, 1544, 1548, 1556, 1557, 1563,\n",
       "       1566, 1567, 1569, 1570, 1573, 1575, 1576, 1577, 1579, 1581, 1582,\n",
       "       1584, 1589, 1591, 1592, 1596, 1598, 1602, 1603, 1604, 1607, 1617,\n",
       "       1620, 1625])"
      ]
     },
     "execution_count": 1682,
     "metadata": {},
     "output_type": "execute_result"
    }
   ],
   "source": [
    "np.where(y_pred_dnn_dif == y_true_diff)[0]"
   ]
  },
  {
   "cell_type": "code",
   "execution_count": 1683,
   "metadata": {},
   "outputs": [
    {
     "data": {
      "text/plain": [
       "array([  16,   23,   29, ..., 9987, 9990, 9994])"
      ]
     },
     "execution_count": 1683,
     "metadata": {},
     "output_type": "execute_result"
    }
   ],
   "source": [
    "indices"
   ]
  },
  {
   "cell_type": "code",
   "execution_count": 1684,
   "metadata": {},
   "outputs": [],
   "source": [
    "gnn_right = np.where(y_pred_gnn == y_true)[0]"
   ]
  },
  {
   "cell_type": "code",
   "execution_count": 1685,
   "metadata": {},
   "outputs": [],
   "source": [
    "dnn_right = np.where(y_pred_dnn == y_true)[0]"
   ]
  },
  {
   "cell_type": "code",
   "execution_count": 1686,
   "metadata": {},
   "outputs": [],
   "source": [
    "np.savetxt('indices_gnn_right.txt', np.intersect1d(indices, gnn_right), delimiter=',')"
   ]
  },
  {
   "cell_type": "code",
   "execution_count": 1687,
   "metadata": {},
   "outputs": [],
   "source": [
    "np.savetxt('indices_dnn_right.txt', np.intersect1d(indices, dnn_right), delimiter=',')"
   ]
  },
  {
   "cell_type": "code",
   "execution_count": null,
   "metadata": {},
   "outputs": [],
   "source": []
  }
 ],
 "metadata": {
  "kernelspec": {
   "display_name": "Python 3",
   "language": "python",
   "name": "python3"
  },
  "language_info": {
   "codemirror_mode": {
    "name": "ipython",
    "version": 3
   },
   "file_extension": ".py",
   "mimetype": "text/x-python",
   "name": "python",
   "nbconvert_exporter": "python",
   "pygments_lexer": "ipython3",
   "version": "3.7.6"
  }
 },
 "nbformat": 4,
 "nbformat_minor": 4
}
