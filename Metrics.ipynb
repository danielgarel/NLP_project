{
 "cells": [
  {
   "cell_type": "markdown",
   "metadata": {},
   "source": [
    "### Notebook to import results of model run and create results report"
   ]
  },
  {
   "cell_type": "code",
   "execution_count": 897,
   "metadata": {},
   "outputs": [],
   "source": [
    "import os\n",
    "import random\n",
    "import numpy as np\n",
    "import pickle as pkl\n",
    "import scipy.sparse as sp\n",
    "import sys\n",
    "from tqdm import tqdm"
   ]
  },
  {
   "cell_type": "code",
   "execution_count": 898,
   "metadata": {},
   "outputs": [],
   "source": [
    "with open(\"data/ind.question1_sub_bal.ty\", 'rb') as f:    \n",
    "    y_true = pkl.load(f)"
   ]
  },
  {
   "cell_type": "code",
   "execution_count": 899,
   "metadata": {},
   "outputs": [],
   "source": [
    "y_true = np.argmax(y_true, axis=1)"
   ]
  },
  {
   "cell_type": "code",
   "execution_count": 900,
   "metadata": {},
   "outputs": [
    {
     "data": {
      "text/plain": [
       "array([0, 0, 1, ..., 0, 0, 1], dtype=int64)"
      ]
     },
     "execution_count": 900,
     "metadata": {},
     "output_type": "execute_result"
    }
   ],
   "source": [
    "y_true"
   ]
  },
  {
   "cell_type": "code",
   "execution_count": 901,
   "metadata": {},
   "outputs": [],
   "source": [
    "y_pred = np.loadtxt(\"gnn_pred4_win8.csv\")"
   ]
  },
  {
   "cell_type": "code",
   "execution_count": 902,
   "metadata": {},
   "outputs": [
    {
     "data": {
      "text/plain": [
       "array([0., 0., 1., ..., 0., 0., 1.])"
      ]
     },
     "execution_count": 902,
     "metadata": {},
     "output_type": "execute_result"
    }
   ],
   "source": [
    "y_pred"
   ]
  },
  {
   "cell_type": "code",
   "execution_count": 903,
   "metadata": {},
   "outputs": [],
   "source": [
    "ind_short = np.loadtxt(\"short_sents.txt\").astype(np.int)"
   ]
  },
  {
   "cell_type": "code",
   "execution_count": 904,
   "metadata": {},
   "outputs": [
    {
     "data": {
      "text/plain": [
       "array([   0,    1,    2, ..., 9985, 9992, 9993])"
      ]
     },

     "execution_count": 904,

     "metadata": {},
     "output_type": "execute_result"
    }
   ],
   "source": [
    "ind_short"
   ]
  },
  {
   "cell_type": "code",
   "execution_count": 905,

   "metadata": {},
   "outputs": [],
   "source": [
    "y_true_short = y_true[ind_short]"
   ]
  },
  {
   "cell_type": "code",
   "execution_count": 906,

   "metadata": {},
   "outputs": [
    {
     "data": {
      "text/plain": [
       "(4756,)"
      ]
     },
     "execution_count": 906,

     "metadata": {},
     "output_type": "execute_result"
    }
   ],
   "source": [
    "y_true_short.shape"
   ]
  },
  {
   "cell_type": "code",
   "execution_count": 907,

   "metadata": {},
   "outputs": [],
   "source": [
    "y_pred_short = y_pred[ind_short]"
   ]
  },
  {
   "cell_type": "code",
   "execution_count": 908,

   "metadata": {},
   "outputs": [],
   "source": [
    "ind_medium = np.loadtxt(\"medium_sents.txt\").astype(np.int)"
   ]
  },
  {
   "cell_type": "code",
   "execution_count": 909,

   "metadata": {},
   "outputs": [],
   "source": [
    "y_true_medium = y_true[ind_medium]"
   ]
  },
  {
   "cell_type": "code",
   "execution_count": 910,

   "metadata": {},
   "outputs": [],
   "source": [
    "y_pred_medium = y_pred[ind_medium]"
   ]
  },
  {
   "cell_type": "code",
   "execution_count": 911,
   "metadata": {},
   "outputs": [],
   "source": [
    "ind_long = np.loadtxt(\"long_sents.txt\").astype(np.int)"
   ]
  },
  {
   "cell_type": "code",
   "execution_count": 912,

   "metadata": {},
   "outputs": [],
   "source": [
    "y_true_long = y_true[ind_long]"
   ]
  },
  {
   "cell_type": "code",
   "execution_count": 913,

   "metadata": {},
   "outputs": [],
   "source": [
    "y_pred_long = y_pred[ind_long]"
   ]
  },
  {
   "cell_type": "code",
   "execution_count": 914,

   "metadata": {},
   "outputs": [],
   "source": [
    "ind_mixed = np.loadtxt(\"unmatched_len.txt\").astype(np.int)"
   ]
  },
  {
   "cell_type": "code",
   "execution_count": 915,

   "metadata": {},
   "outputs": [],
   "source": [
    "y_true_mixed = y_true[ind_mixed]"
   ]
  },
  {
   "cell_type": "code",

   "execution_count": 916,

   "metadata": {},
   "outputs": [],
   "source": [
    "y_pred_mixed = y_pred[ind_mixed]"
   ]
  },
  {
   "cell_type": "code",

   "execution_count": 917,

   "metadata": {},
   "outputs": [],
   "source": [
    "ind_inductive = np.loadtxt(\"inductive_ind_15.txt\").astype(np.int)"
   ]
  },
  {
   "cell_type": "code",

   "execution_count": 918,

   "metadata": {},
   "outputs": [],
   "source": [
    "y_true_inductive = y_true[ind_inductive]"
   ]
  },
  {
   "cell_type": "code",

   "execution_count": 919,

   "metadata": {},
   "outputs": [],
   "source": [
    "y_pred_inductive = y_pred[ind_inductive]"
   ]
  },
  {
   "cell_type": "code",

   "execution_count": 920,

   "metadata": {},
   "outputs": [],
   "source": [
    "y_true_n_inductive = y_true[[i for i in range(9999) if i not in ind_inductive]]"
   ]
  },
  {
   "cell_type": "code",

   "execution_count": 921,

   "metadata": {},
   "outputs": [],
   "source": [
    "y_pred_n_inductive = y_pred[[i for i in range(9999) if i not in ind_inductive]]"
   ]
  },
  {
   "cell_type": "code",

   "execution_count": 922,

   "metadata": {},
   "outputs": [],
   "source": [
    "from sklearn import metrics"
   ]
  },
  {
   "cell_type": "code",

   "execution_count": 923,

   "metadata": {},
   "outputs": [
    {
     "name": "stdout",
     "output_type": "stream",
     "text": [
      "              precision    recall  f1-score   support\n",
      "\n",
      "           0     0.8891    0.7244    0.7983      2910\n",
      "           1     0.6637    0.8575    0.7483      1846\n",
      "\n",
      "    accuracy                         0.7761      4756\n",
      "   macro avg     0.7764    0.7910    0.7733      4756\n",
      "weighted avg     0.8016    0.7761    0.7789      4756\n",
      "\n"
     ]
    }
   ],
   "source": [
    "print(metrics.classification_report(y_true_short, y_pred_short, digits=4))"
   ]
  },
  {
   "cell_type": "code",

   "execution_count": 924,

   "metadata": {},
   "outputs": [
    {
     "name": "stdout",
     "output_type": "stream",
     "text": [
      "              precision    recall  f1-score   support\n",
      "\n",
      "           0     0.9066    0.7430    0.8167      1490\n",
      "           1     0.6749    0.8746    0.7619       909\n",
      "\n",
      "    accuracy                         0.7928      2399\n",
      "   macro avg     0.7908    0.8088    0.7893      2399\n",
      "weighted avg     0.8188    0.7928    0.7959      2399\n",
      "\n"
     ]
    }
   ],
   "source": [
    "print(metrics.classification_report(y_true_medium, y_pred_medium, digits=4))"
   ]
  },
  {
   "cell_type": "code",

   "execution_count": 925,

   "metadata": {},
   "outputs": [
    {
     "name": "stdout",
     "output_type": "stream",
     "text": [
      "              precision    recall  f1-score   support\n",
      "\n",
      "           0     0.9167    0.7857    0.8462        14\n",
      "           1     0.6667    0.8571    0.7500         7\n",
      "\n",
      "    accuracy                         0.8095        21\n",
      "   macro avg     0.7917    0.8214    0.7981        21\n",
      "weighted avg     0.8333    0.8095    0.8141        21\n",
      "\n"
     ]
    }
   ],
   "source": [
    "print(metrics.classification_report(y_true_long, y_pred_long, digits=4))"
   ]
  },
  {
   "cell_type": "code",

   "execution_count": 926,

   "metadata": {},
   "outputs": [
    {
     "name": "stdout",
     "output_type": "stream",
     "text": [
      "              precision    recall  f1-score   support\n",
      "\n",
      "           0     0.8962    0.7536    0.8187      1798\n",
      "           1     0.6608    0.8461    0.7420      1020\n",
      "\n",
      "    accuracy                         0.7871      2818\n",
      "   macro avg     0.7785    0.7998    0.7804      2818\n",
      "weighted avg     0.8110    0.7871    0.7910      2818\n",
      "\n"
     ]
    }
   ],
   "source": [
    "print(metrics.classification_report(y_true_mixed, y_pred_mixed, digits=4))"
   ]
  },
  {
   "cell_type": "code",

   "execution_count": 927,

   "metadata": {},
   "outputs": [
    {
     "name": "stdout",
     "output_type": "stream",
     "text": [
      "              precision    recall  f1-score   support\n",
      "\n",
      "           0     0.9336    0.7276    0.8178       290\n",
      "           1     0.6638    0.9123    0.7685       171\n",
      "\n",
      "    accuracy                         0.7961       461\n",
      "   macro avg     0.7987    0.8199    0.7932       461\n",
      "weighted avg     0.8336    0.7961    0.7995       461\n",

      "\n"
     ]
    }
   ],
   "source": [
    "print(metrics.classification_report(y_true_inductive, y_pred_inductive, digits=4))"
   ]
  },
  {
   "cell_type": "code",

   "execution_count": 928,

   "metadata": {},
   "outputs": [
    {
     "name": "stdout",
     "output_type": "stream",
     "text": [
      "              precision    recall  f1-score   support\n",
      "\n",
      "           0     0.8962    0.7286    0.8038      5925\n",
      "           1     0.6594    0.8616    0.7471      3613\n",
      "\n",
      "    accuracy                         0.7790      9538\n",
      "   macro avg     0.7778    0.7951    0.7754      9538\n",
      "weighted avg     0.8065    0.7790    0.7823      9538\n",

      "\n"
     ]
    }
   ],
   "source": [
    "print(metrics.classification_report(y_true_n_inductive, y_pred_n_inductive, digits=4))"
   ]
  },
  {
   "cell_type": "code",

   "execution_count": 929,

   "metadata": {},
   "outputs": [
    {
     "name": "stdout",
     "output_type": "stream",
     "text": [
      "              precision    recall  f1-score   support\n",
      "\n",
      "           0     0.8955    0.7376    0.8089      6215\n",
      "           1     0.6658    0.8586    0.7500      3784\n",
      "\n",
      "    accuracy                         0.7834      9999\n",
      "   macro avg     0.7806    0.7981    0.7794      9999\n",
      "weighted avg     0.8086    0.7834    0.7866      9999\n",
      "\n"
     ]
    }
   ],
   "source": [
    "print(metrics.classification_report(y_true, y_pred, digits=4))"
   ]
  },
  {
   "cell_type": "code",

   "execution_count": 930,

   "metadata": {},
   "outputs": [
    {
     "data": {
      "text/plain": [
       "((4756,), (2399,), (21,), (2818,), (9999,))"
      ]
     },
     "execution_count": 930,

     "metadata": {},
     "output_type": "execute_result"
    }
   ],
   "source": [
    "y_true_short.shape, y_true_medium.shape, y_true_long.shape, y_true_mixed.shape, y_true.shape"
   ]
  },
  {
   "cell_type": "code",

   "execution_count": 931,

   "metadata": {},
   "outputs": [
    {
     "data": {
      "text/plain": [
       "array([   8,   15,   23,   25,   62,   70,   74,   85,  106,  107,  113,\n",
       "        138,  143,  144,  183,  187,  211,  233,  276,  458,  481,  484,\n",
       "        498,  522,  531,  558,  573,  587,  589,  646,  695,  786,  794,\n",
       "        820,  840,  888,  895,  916,  968,  988, 1011, 1019, 1028, 1042,\n",
       "       1053, 1100, 1116, 1125, 1152, 1161, 1166, 1193, 1240, 1242, 1243,\n",
       "       1277, 1328, 1363, 1366, 1427, 1439, 1442, 1451, 1453, 1462, 1598,\n",
       "       1603, 1660, 1676, 1679, 1685, 1693, 1755, 1759, 1775, 1776, 1781,\n",
       "       1788, 1830, 1898, 1900, 1944, 1969, 1978, 2002, 2006, 2007, 2048,\n",
       "       2053, 2064, 2079, 2087, 2090, 2096, 2148, 2197, 2230, 2345, 2385,\n",
       "       2396, 2397, 2435, 2445, 2456, 2458, 2478, 2652, 2692, 2738, 2744,\n",
       "       2751, 2765, 2830, 2865, 2882, 2896, 2897, 2908, 2910, 2920, 2924,\n",
       "       2937, 2979, 2980, 2988, 3012, 3021, 3026, 3049, 3050, 3112, 3151,\n",
       "       3165, 3198, 3212, 3242, 3290, 3303, 3345, 3365, 3413, 3418, 3424,\n",
       "       3451, 3526, 3539, 3542, 3569, 3602, 3608, 3632, 3701, 3706, 3709,\n",
       "       3736, 3748, 3768, 3797, 3800, 3805, 3822, 3850, 3873, 3887, 3931,\n",
       "       3933, 3950, 3963, 4038, 4051, 4060, 4079, 4102, 4104, 4123, 4136,\n",
       "       4139, 4148, 4197, 4208, 4231, 4295, 4306, 4314, 4315, 4320, 4331,\n",
       "       4357, 4382, 4408, 4409, 4445, 4451, 4479, 4489, 4501, 4510, 4519,\n",
       "       4540, 4549, 4578, 4590, 4602, 4627, 4628, 4650, 4653, 4666, 4703,\n",
       "       4725, 4730, 4761, 4774, 4781, 4787, 4799, 4812, 4820, 4824, 4850,\n",
       "       4853, 4874, 4878, 4887, 4948, 5014, 5028, 5030, 5070, 5097, 5106,\n",
       "       5142, 5171, 5190, 5204, 5223, 5248, 5278, 5290, 5303, 5350, 5364,\n",
       "       5375, 5389, 5413, 5426, 5439, 5446, 5454, 5478, 5479, 5542, 5543,\n",
       "       5560, 5615, 5629, 5631, 5637, 5671, 5698, 5750, 5754, 5758, 5767,\n",
       "       5789, 5815, 5818, 5850, 5932, 5950, 5962, 5965, 5968, 6020, 6026,\n",
       "       6042, 6045, 6052, 6078, 6087, 6100, 6111, 6150, 6153, 6168, 6207,\n",
       "       6220, 6231, 6259, 6260, 6298, 6319, 6329, 6363, 6369, 6376, 6388,\n",
       "       6417, 6439, 6462, 6465, 6477, 6502, 6519, 6587, 6637, 6639, 6644,\n",
       "       6647, 6674, 6752, 6759, 6870, 6902, 6903, 6970, 6996, 7008, 7025,\n",
       "       7040, 7075, 7100, 7159, 7179, 7203, 7206, 7218, 7223, 7225, 7306,\n",
       "       7309, 7330, 7343, 7354, 7384, 7401, 7414, 7443, 7499, 7513, 7570,\n",
       "       7591, 7597, 7627, 7636, 7639, 7641, 7677, 7727, 7737, 7742, 7761,\n",
       "       7768, 7792, 7795, 7807, 7842, 7856, 7888, 7941, 7947, 7949, 7972,\n",
       "       7977, 7987, 8015, 8065, 8070, 8099, 8111, 8142, 8164, 8173, 8186,\n",
       "       8187, 8197, 8202, 8207, 8219, 8243, 8250, 8255, 8270, 8313, 8324,\n",
       "       8337, 8346, 8381, 8404, 8416, 8417, 8421, 8457, 8477, 8542, 8549,\n",
       "       8554, 8557, 8579, 8597, 8615, 8645, 8655, 8688, 8709, 8717, 8726,\n",
       "       8757, 8802, 8831, 8844, 8867, 8871, 8889, 8958, 9033, 9038, 9051,\n",
       "       9068, 9079, 9091, 9098, 9139, 9183, 9210, 9223, 9233, 9269, 9287,\n",
       "       9344, 9364, 9379, 9410, 9421, 9434, 9463, 9465, 9478, 9484, 9499,\n",
       "       9556, 9601, 9651, 9703, 9730, 9748, 9795, 9797, 9798, 9814, 9817,\n",
       "       9825, 9839, 9850, 9871, 9889, 9915, 9932, 9969, 9972, 9975])"
      ]
     },
     "execution_count": 931,

     "metadata": {},
     "output_type": "execute_result"
    }
   ],
   "source": [
    "ind_inductive"
   ]
  },
  {
   "cell_type": "code",

   "execution_count": 932,

   "metadata": {},
   "outputs": [
    {
     "data": {
      "text/plain": [
       "(array([   0,    1,    2, ..., 9985, 9992, 9993]),\n",
       " array([   4,    5,   13, ..., 9988, 9989, 9991]),\n",
       " array([   7,  306,  790,  795, 1408, 1970, 2362, 3235, 3238, 3260, 3316,\n",
       "        5128, 5175, 5585, 8165, 8171, 8274, 8497, 8604, 9424, 9779]),\n",
       " array([   6,    8,   16, ..., 9981, 9983, 9990]))"
      ]
     },
     "execution_count": 932,

     "metadata": {},
     "output_type": "execute_result"
    }
   ],
   "source": [
    "ind_short, ind_medium, ind_long, ind_mixed"
   ]
  },
  {
   "cell_type": "code",

   "execution_count": 933,

   "metadata": {},
   "outputs": [],
   "source": [
    "y_pred_gnn = np.loadtxt(\"gnn_pred4_win4.csv\")"
   ]
  },
  {
   "cell_type": "code",

   "execution_count": 934,

   "metadata": {},
   "outputs": [],
   "source": [
    "y_pred_dnn = np.loadtxt(\"dnn_pred.csv\")"
   ]
  },
  {
   "cell_type": "code",

   "execution_count": 935,

   "metadata": {},
   "outputs": [],
   "source": [
    "indices = np.where(y_pred_gnn != y_pred_dnn)[0]"
   ]
  },
  {
   "cell_type": "code",

   "execution_count": 936,

   "metadata": {},
   "outputs": [],
   "source": [
    "y_pred_gnn_dif = y_pred_gnn[indices]"
   ]
  },
  {
   "cell_type": "code",

   "execution_count": 937,

   "metadata": {},
   "outputs": [],
   "source": [
    "y_pred_dnn_dif = y_pred_dnn[indices]"
   ]
  },
  {
   "cell_type": "code",

   "execution_count": 938,

   "metadata": {},
   "outputs": [],
   "source": [
    "y_true_diff = y_true[indices]"
   ]
  },
  {
   "cell_type": "code",

   "execution_count": 939,

   "metadata": {},
   "outputs": [
    {
     "name": "stdout",
     "output_type": "stream",
     "text": [
      "              precision    recall  f1-score   support\n",
      "\n",
      "           0     0.6991    0.6900    0.6945      1145\n",
      "           1     0.2843    0.2931    0.2886       481\n",
      "\n",
      "    accuracy                         0.5726      1626\n",
      "   macro avg     0.4917    0.4915    0.4916      1626\n",
      "weighted avg     0.5764    0.5726    0.5744      1626\n",
      "\n"
     ]
    }
   ],
   "source": [
    "print(metrics.classification_report(y_true_diff, y_pred_gnn_dif, digits=4))"
   ]
  },
  {
   "cell_type": "code",

   "execution_count": 940,

   "metadata": {},
   "outputs": [
    {
     "name": "stdout",
     "output_type": "stream",
     "text": [
      "              precision    recall  f1-score   support\n",
      "\n",
      "           0     0.7157    0.3100    0.4327      1145\n",
      "           1     0.3009    0.7069    0.4221       481\n",
      "\n",
      "    accuracy                         0.4274      1626\n",
      "   macro avg     0.5083    0.5085    0.4274      1626\n",
      "weighted avg     0.5930    0.4274    0.4295      1626\n",
      "\n"
     ]
    }
   ],
   "source": [
    "print(metrics.classification_report(y_true_diff, y_pred_dnn_dif, digits=4))"
   ]
  },
  {
   "cell_type": "code",

   "execution_count": 941,

   "metadata": {},
   "outputs": [
    {
     "data": {
      "text/plain": [
       "(931,)"
      ]
     },
     "execution_count": 941,

     "metadata": {},
     "output_type": "execute_result"
    }
   ],
   "source": [
    "np.where(y_pred_gnn_dif == y_true_diff)[0].shape"
   ]
  },
  {
   "cell_type": "code",

   "execution_count": 942,

   "metadata": {},
   "outputs": [
    {
     "data": {
      "text/plain": [
       "array([   0,    2,    5,    8,    9,   10,   11,   12,   13,   18,   19,\n",
       "         22,   23,   24,   25,   26,   27,   31,   34,   36,   38,   39,\n",
       "         40,   41,   42,   43,   45,   46,   47,   50,   52,   55,   60,\n",
       "         61,   62,   64,   65,   69,   70,   73,   75,   77,   78,   83,\n",
       "         84,   85,   87,   88,   90,   92,   94,   98,   99,  100,  106,\n",
       "        107,  108,  109,  110,  111,  114,  117,  123,  126,  128,  129,\n",
       "        131,  132,  133,  135,  137,  139,  141,  142,  145,  146,  152,\n",
       "        153,  158,  161,  162,  166,  169,  170,  175,  177,  178,  179,\n",
       "        182,  183,  184,  186,  189,  191,  194,  196,  197,  200,  201,\n",
       "        203,  204,  207,  212,  216,  221,  222,  223,  225,  226,  228,\n",
       "        232,  233,  239,  241,  249,  254,  264,  267,  268,  269,  271,\n",
       "        272,  273,  277,  282,  283,  284,  285,  286,  287,  288,  290,\n",
       "        294,  295,  296,  298,  299,  300,  303,  304,  307,  309,  312,\n",
       "        313,  314,  315,  317,  322,  326,  327,  337,  338,  340,  348,\n",
       "        349,  352,  354,  355,  356,  359,  360,  362,  363,  365,  367,\n",
       "        372,  377,  381,  388,  389,  392,  393,  395,  401,  403,  405,\n",
       "        406,  408,  409,  412,  426,  427,  433,  435,  443,  445,  447,\n",
       "        450,  452,  454,  455,  457,  458,  459,  460,  461,  463,  468,\n",
       "        469,  471,  472,  474,  480,  481,  485,  487,  488,  489,  491,\n",
       "        492,  494,  495,  497,  498,  501,  502,  503,  507,  509,  512,\n",
       "        513,  514,  520,  523,  525,  526,  527,  529,  530,  531,  534,\n",
       "        538,  540,  541,  545,  546,  547,  548,  551,  555,  556,  557,\n",
       "        558,  562,  566,  567,  571,  573,  574,  576,  578,  579,  582,\n",
       "        583,  586,  587,  588,  589,  590,  591,  594,  600,  601,  604,\n",
       "        608,  610,  620,  623,  625,  626,  631,  637,  639,  640,  642,\n",
       "        644,  645,  650,  651,  652,  653,  658,  660,  661,  662,  663,\n",
       "        666,  670,  671,  673,  676,  677,  679,  680,  683,  684,  686,\n",
       "        688,  690,  691,  692,  694,  695,  698,  700,  701,  707,  709,\n",
       "        710,  713,  715,  718,  719,  722,  723,  726,  728,  730,  732,\n",
       "        733,  734,  735,  736,  746,  749,  750,  759,  760,  762,  767,\n",
       "        769,  770,  772,  776,  777,  780,  782,  785,  787,  789,  790,\n",
       "        791,  796,  797,  798,  804,  806,  807,  811,  812,  814,  816,\n",
       "        817,  818,  820,  821,  825,  827,  830,  832,  833,  834,  836,\n",
       "        839,  840,  842,  843,  844,  845,  846,  849,  850,  852,  853,\n",
       "        855,  856,  857,  859,  863,  865,  866,  869,  871,  872,  874,\n",
       "        875,  877,  878,  880,  881,  882,  884,  888,  889,  891,  892,\n",
       "        894,  897,  898,  899,  900,  903,  905,  906,  907,  908,  910,\n",
       "        911,  915,  916,  921,  927,  930,  933,  934,  935,  936,  938,\n",
       "        939,  942,  943,  944,  946,  950,  954,  958,  960,  961,  963,\n",
       "        964,  965,  969,  972,  973,  974,  978,  979,  980,  982,  985,\n",
       "        986,  987,  991,  993,  995, 1003, 1006, 1009, 1010, 1015, 1021,\n",
       "       1022, 1024, 1029, 1031, 1032, 1034, 1037, 1038, 1042, 1043, 1046,\n",
       "       1049, 1050, 1051, 1053, 1061, 1062, 1066, 1069, 1070, 1073, 1074,\n",
       "       1077, 1078, 1080, 1081, 1082, 1085, 1087, 1088, 1090, 1095, 1096,\n",
       "       1101, 1102, 1103, 1109, 1112, 1113, 1114, 1117, 1119, 1121, 1122,\n",
       "       1124, 1127, 1128, 1129, 1131, 1132, 1133, 1135, 1141, 1144, 1153,\n",
       "       1155, 1157, 1160, 1163, 1164, 1167, 1168, 1169, 1170, 1171, 1175,\n",
       "       1178, 1180, 1181, 1183, 1185, 1186, 1188, 1189, 1192, 1197, 1200,\n",
       "       1205, 1206, 1207, 1208, 1214, 1215, 1217, 1220, 1221, 1223, 1224,\n",
       "       1227, 1228, 1229, 1230, 1233, 1235, 1238, 1240, 1243, 1251, 1252,\n",
       "       1253, 1255, 1257, 1259, 1260, 1261, 1262, 1265, 1266, 1267, 1268,\n",
       "       1270, 1271, 1273, 1274, 1276, 1278, 1279, 1281, 1285, 1288, 1294,\n",
       "       1296, 1298, 1300, 1301, 1304, 1305, 1308, 1309, 1310, 1311, 1313,\n",
       "       1315, 1316, 1318, 1323, 1324, 1326, 1329, 1333, 1336, 1340, 1341,\n",
       "       1344, 1345, 1350, 1358, 1363, 1367, 1368, 1369, 1370, 1375, 1379,\n",
       "       1383, 1384, 1385, 1387, 1388, 1390, 1394, 1398, 1403, 1404, 1405,\n",
       "       1409, 1410, 1413, 1417, 1419, 1427, 1428, 1430, 1431, 1433, 1434,\n",
       "       1438, 1441, 1444, 1446, 1447, 1448, 1450, 1451, 1452, 1456, 1458,\n",
       "       1462, 1464, 1469, 1472, 1473, 1476, 1477, 1482, 1485, 1486, 1487,\n",
       "       1490, 1493, 1497, 1499, 1500, 1504, 1505, 1508, 1510, 1511, 1513,\n",
       "       1524, 1531, 1537, 1539, 1541, 1543, 1544, 1548, 1556, 1557, 1563,\n",
       "       1566, 1567, 1569, 1570, 1573, 1575, 1576, 1577, 1579, 1581, 1582,\n",
       "       1584, 1589, 1591, 1592, 1596, 1598, 1602, 1603, 1604, 1607, 1617,\n",
       "       1620, 1625], dtype=int64)"
      ]
     },
     "execution_count": 942,

     "metadata": {},
     "output_type": "execute_result"
    }
   ],
   "source": [
    "np.where(y_pred_dnn_dif == y_true_diff)[0]"
   ]
  },
  {
   "cell_type": "code",

   "execution_count": 943,

   "metadata": {},
   "outputs": [
    {
     "data": {
      "text/plain": [
       "array([  16,   23,   29, ..., 9987, 9990, 9994], dtype=int64)"
      ]
     },
     "execution_count": 943,

     "metadata": {},
     "output_type": "execute_result"
    }
   ],
   "source": [
    "indices"
   ]
  },
  {
   "cell_type": "code",

   "execution_count": 944,

   "metadata": {},
   "outputs": [],
   "source": [
    "gnn_right = np.where(y_pred_gnn == y_true)[0]"
   ]
  },
  {
   "cell_type": "code",

   "execution_count": 945,

   "metadata": {},
   "outputs": [],
   "source": [
    "dnn_right = np.where(y_pred_dnn == y_true)[0]"
   ]
  },
  {
   "cell_type": "code",

   "execution_count": 946,

   "metadata": {},
   "outputs": [],
   "source": [
    "np.savetxt('indices_gnn_right.txt', np.intersect1d(indices, gnn_right), delimiter=',')"
   ]
  },
  {
   "cell_type": "code",

   "execution_count": 947,

   "metadata": {},
   "outputs": [],
   "source": [
    "np.savetxt('indices_dnn_right.txt', np.intersect1d(indices, dnn_right), delimiter=',')"
   ]
  },
  {
   "cell_type": "code",
   "execution_count": null,
   "metadata": {},
   "outputs": [],
   "source": []
  }
 ],
 "metadata": {
  "kernelspec": {
   "display_name": "Python 3",
   "language": "python",
   "name": "python3"
  },
  "language_info": {
   "codemirror_mode": {
    "name": "ipython",
    "version": 3
   },
   "file_extension": ".py",
   "mimetype": "text/x-python",
   "name": "python",
   "nbconvert_exporter": "python",
   "pygments_lexer": "ipython3",
   "version": "3.7.9"
  }
 },
 "nbformat": 4,
 "nbformat_minor": 4
}
