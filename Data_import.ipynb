{
 "cells": [
  {
   "cell_type": "markdown",
   "metadata": {},
   "source": [
    "### Notebook to import the dataset, pre-process it, split it into train and test and balance the train"
   ]
  },
  {
   "cell_type": "markdown",
   "metadata": {},
   "source": [
    "1. Open the dataset"
   ]
  },
  {
   "cell_type": "code",
   "execution_count": 3,
   "metadata": {},
   "outputs": [],
   "source": [
    "import pandas as pd\n",
    "import re\n",
    "import numpy as np"
   ]
  },
  {
   "cell_type": "code",
   "execution_count": 4,
   "metadata": {},
   "outputs": [],
   "source": [
    "df = pd.read_csv('C:\\\\Users\\\\danie\\\\PycharmProjects\\\\NLP_project\\\\data\\\\quora_duplicate_questions.tsv', sep='\\t', index_col =0, header=0)"
   ]
  },
  {
   "cell_type": "code",
   "execution_count": 5,
   "metadata": {},
   "outputs": [
    {
     "data": {
      "text/html": [
       "<div>\n",
       "<style scoped>\n",
       "    .dataframe tbody tr th:only-of-type {\n",
       "        vertical-align: middle;\n",
       "    }\n",
       "\n",
       "    .dataframe tbody tr th {\n",
       "        vertical-align: top;\n",
       "    }\n",
       "\n",
       "    .dataframe thead th {\n",
       "        text-align: right;\n",
       "    }\n",
       "</style>\n",
       "<table border=\"1\" class=\"dataframe\">\n",
       "  <thead>\n",
       "    <tr style=\"text-align: right;\">\n",
       "      <th></th>\n",
       "      <th>qid1</th>\n",
       "      <th>qid2</th>\n",
       "      <th>question1</th>\n",
       "      <th>question2</th>\n",
       "      <th>is_duplicate</th>\n",
       "    </tr>\n",
       "    <tr>\n",
       "      <th>id</th>\n",
       "      <th></th>\n",
       "      <th></th>\n",
       "      <th></th>\n",
       "      <th></th>\n",
       "      <th></th>\n",
       "    </tr>\n",
       "  </thead>\n",
       "  <tbody>\n",
       "    <tr>\n",
       "      <th>0</th>\n",
       "      <td>1</td>\n",
       "      <td>2</td>\n",
       "      <td>What is the step by step guide to invest in sh...</td>\n",
       "      <td>What is the step by step guide to invest in sh...</td>\n",
       "      <td>0</td>\n",
       "    </tr>\n",
       "    <tr>\n",
       "      <th>1</th>\n",
       "      <td>3</td>\n",
       "      <td>4</td>\n",
       "      <td>What is the story of Kohinoor (Koh-i-Noor) Dia...</td>\n",
       "      <td>What would happen if the Indian government sto...</td>\n",
       "      <td>0</td>\n",
       "    </tr>\n",
       "    <tr>\n",
       "      <th>2</th>\n",
       "      <td>5</td>\n",
       "      <td>6</td>\n",
       "      <td>How can I increase the speed of my internet co...</td>\n",
       "      <td>How can Internet speed be increased by hacking...</td>\n",
       "      <td>0</td>\n",
       "    </tr>\n",
       "    <tr>\n",
       "      <th>3</th>\n",
       "      <td>7</td>\n",
       "      <td>8</td>\n",
       "      <td>Why am I mentally very lonely? How can I solve...</td>\n",
       "      <td>Find the remainder when [math]23^{24}[/math] i...</td>\n",
       "      <td>0</td>\n",
       "    </tr>\n",
       "    <tr>\n",
       "      <th>4</th>\n",
       "      <td>9</td>\n",
       "      <td>10</td>\n",
       "      <td>Which one dissolve in water quikly sugar, salt...</td>\n",
       "      <td>Which fish would survive in salt water?</td>\n",
       "      <td>0</td>\n",
       "    </tr>\n",
       "    <tr>\n",
       "      <th>...</th>\n",
       "      <td>...</td>\n",
       "      <td>...</td>\n",
       "      <td>...</td>\n",
       "      <td>...</td>\n",
       "      <td>...</td>\n",
       "    </tr>\n",
       "    <tr>\n",
       "      <th>404285</th>\n",
       "      <td>433578</td>\n",
       "      <td>379845</td>\n",
       "      <td>How many keywords are there in the Racket prog...</td>\n",
       "      <td>How many keywords are there in PERL Programmin...</td>\n",
       "      <td>0</td>\n",
       "    </tr>\n",
       "    <tr>\n",
       "      <th>404286</th>\n",
       "      <td>18840</td>\n",
       "      <td>155606</td>\n",
       "      <td>Do you believe there is life after death?</td>\n",
       "      <td>Is it true that there is life after death?</td>\n",
       "      <td>1</td>\n",
       "    </tr>\n",
       "    <tr>\n",
       "      <th>404287</th>\n",
       "      <td>537928</td>\n",
       "      <td>537929</td>\n",
       "      <td>What is one coin?</td>\n",
       "      <td>What's this coin?</td>\n",
       "      <td>0</td>\n",
       "    </tr>\n",
       "    <tr>\n",
       "      <th>404288</th>\n",
       "      <td>537930</td>\n",
       "      <td>537931</td>\n",
       "      <td>What is the approx annual cost of living while...</td>\n",
       "      <td>I am having little hairfall problem but I want...</td>\n",
       "      <td>0</td>\n",
       "    </tr>\n",
       "    <tr>\n",
       "      <th>404289</th>\n",
       "      <td>537932</td>\n",
       "      <td>537933</td>\n",
       "      <td>What is like to have sex with cousin?</td>\n",
       "      <td>What is it like to have sex with your cousin?</td>\n",
       "      <td>0</td>\n",
       "    </tr>\n",
       "  </tbody>\n",
       "</table>\n",
       "<p>404290 rows × 5 columns</p>\n",
       "</div>"
      ],
      "text/plain": [
       "          qid1    qid2                                          question1  \\\n",
       "id                                                                          \n",
       "0            1       2  What is the step by step guide to invest in sh...   \n",
       "1            3       4  What is the story of Kohinoor (Koh-i-Noor) Dia...   \n",
       "2            5       6  How can I increase the speed of my internet co...   \n",
       "3            7       8  Why am I mentally very lonely? How can I solve...   \n",
       "4            9      10  Which one dissolve in water quikly sugar, salt...   \n",
       "...        ...     ...                                                ...   \n",
       "404285  433578  379845  How many keywords are there in the Racket prog...   \n",
       "404286   18840  155606          Do you believe there is life after death?   \n",
       "404287  537928  537929                                  What is one coin?   \n",
       "404288  537930  537931  What is the approx annual cost of living while...   \n",
       "404289  537932  537933              What is like to have sex with cousin?   \n",
       "\n",
       "                                                question2  is_duplicate  \n",
       "id                                                                       \n",
       "0       What is the step by step guide to invest in sh...             0  \n",
       "1       What would happen if the Indian government sto...             0  \n",
       "2       How can Internet speed be increased by hacking...             0  \n",
       "3       Find the remainder when [math]23^{24}[/math] i...             0  \n",
       "4                 Which fish would survive in salt water?             0  \n",
       "...                                                   ...           ...  \n",
       "404285  How many keywords are there in PERL Programmin...             0  \n",
       "404286         Is it true that there is life after death?             1  \n",
       "404287                                  What's this coin?             0  \n",
       "404288  I am having little hairfall problem but I want...             0  \n",
       "404289      What is it like to have sex with your cousin?             0  \n",
       "\n",
       "[404290 rows x 5 columns]"
      ]
     },
     "execution_count": 5,
     "metadata": {},
     "output_type": "execute_result"
    }
   ],
   "source": [
    "df"
   ]
  },
  {
   "cell_type": "markdown",
   "metadata": {},
   "source": [
    "2. Remove indices which end up empty after the remove_words preprocessing"
   ]
  },
  {
   "cell_type": "code",
   "execution_count": 6,
   "metadata": {},
   "outputs": [
    {
     "data": {
      "text/plain": [
       "23"
      ]
     },
     "execution_count": 6,
     "metadata": {},
     "output_type": "execute_result"
    }
   ],
   "source": [
    "q1_empty_ind = [3306, 39405, 108978, 109311, 115347, 151922, 158778, 189396, 190570, 199110, 290090, 301583, 325530, 326297, 328601, 329933, 381124]\n",
    "q2_empty_ind = [20072, 144343, 181695, 198913, 384293, 400153]\n",
    "remove_ind = q1_empty_ind +q2_empty_ind\n",
    "len(remove_ind)"
   ]
  },
  {
   "cell_type": "code",
   "execution_count": 7,
   "metadata": {
    "scrolled": true
   },
   "outputs": [],
   "source": [
    "df = df.drop(remove_ind, axis =0)"
   ]
  },
  {
   "cell_type": "code",
   "execution_count": 8,
   "metadata": {},
   "outputs": [
    {
     "data": {
      "text/html": [
       "<div>\n",
       "<style scoped>\n",
       "    .dataframe tbody tr th:only-of-type {\n",
       "        vertical-align: middle;\n",
       "    }\n",
       "\n",
       "    .dataframe tbody tr th {\n",
       "        vertical-align: top;\n",
       "    }\n",
       "\n",
       "    .dataframe thead th {\n",
       "        text-align: right;\n",
       "    }\n",
       "</style>\n",
       "<table border=\"1\" class=\"dataframe\">\n",
       "  <thead>\n",
       "    <tr style=\"text-align: right;\">\n",
       "      <th></th>\n",
       "      <th>qid1</th>\n",
       "      <th>qid2</th>\n",
       "      <th>question1</th>\n",
       "      <th>question2</th>\n",
       "      <th>is_duplicate</th>\n",
       "    </tr>\n",
       "    <tr>\n",
       "      <th>id</th>\n",
       "      <th></th>\n",
       "      <th></th>\n",
       "      <th></th>\n",
       "      <th></th>\n",
       "      <th></th>\n",
       "    </tr>\n",
       "  </thead>\n",
       "  <tbody>\n",
       "    <tr>\n",
       "      <th>0</th>\n",
       "      <td>1</td>\n",
       "      <td>2</td>\n",
       "      <td>What is the step by step guide to invest in sh...</td>\n",
       "      <td>What is the step by step guide to invest in sh...</td>\n",
       "      <td>0</td>\n",
       "    </tr>\n",
       "    <tr>\n",
       "      <th>1</th>\n",
       "      <td>3</td>\n",
       "      <td>4</td>\n",
       "      <td>What is the story of Kohinoor (Koh-i-Noor) Dia...</td>\n",
       "      <td>What would happen if the Indian government sto...</td>\n",
       "      <td>0</td>\n",
       "    </tr>\n",
       "    <tr>\n",
       "      <th>2</th>\n",
       "      <td>5</td>\n",
       "      <td>6</td>\n",
       "      <td>How can I increase the speed of my internet co...</td>\n",
       "      <td>How can Internet speed be increased by hacking...</td>\n",
       "      <td>0</td>\n",
       "    </tr>\n",
       "    <tr>\n",
       "      <th>3</th>\n",
       "      <td>7</td>\n",
       "      <td>8</td>\n",
       "      <td>Why am I mentally very lonely? How can I solve...</td>\n",
       "      <td>Find the remainder when [math]23^{24}[/math] i...</td>\n",
       "      <td>0</td>\n",
       "    </tr>\n",
       "    <tr>\n",
       "      <th>4</th>\n",
       "      <td>9</td>\n",
       "      <td>10</td>\n",
       "      <td>Which one dissolve in water quikly sugar, salt...</td>\n",
       "      <td>Which fish would survive in salt water?</td>\n",
       "      <td>0</td>\n",
       "    </tr>\n",
       "    <tr>\n",
       "      <th>...</th>\n",
       "      <td>...</td>\n",
       "      <td>...</td>\n",
       "      <td>...</td>\n",
       "      <td>...</td>\n",
       "      <td>...</td>\n",
       "    </tr>\n",
       "    <tr>\n",
       "      <th>404285</th>\n",
       "      <td>433578</td>\n",
       "      <td>379845</td>\n",
       "      <td>How many keywords are there in the Racket prog...</td>\n",
       "      <td>How many keywords are there in PERL Programmin...</td>\n",
       "      <td>0</td>\n",
       "    </tr>\n",
       "    <tr>\n",
       "      <th>404286</th>\n",
       "      <td>18840</td>\n",
       "      <td>155606</td>\n",
       "      <td>Do you believe there is life after death?</td>\n",
       "      <td>Is it true that there is life after death?</td>\n",
       "      <td>1</td>\n",
       "    </tr>\n",
       "    <tr>\n",
       "      <th>404287</th>\n",
       "      <td>537928</td>\n",
       "      <td>537929</td>\n",
       "      <td>What is one coin?</td>\n",
       "      <td>What's this coin?</td>\n",
       "      <td>0</td>\n",
       "    </tr>\n",
       "    <tr>\n",
       "      <th>404288</th>\n",
       "      <td>537930</td>\n",
       "      <td>537931</td>\n",
       "      <td>What is the approx annual cost of living while...</td>\n",
       "      <td>I am having little hairfall problem but I want...</td>\n",
       "      <td>0</td>\n",
       "    </tr>\n",
       "    <tr>\n",
       "      <th>404289</th>\n",
       "      <td>537932</td>\n",
       "      <td>537933</td>\n",
       "      <td>What is like to have sex with cousin?</td>\n",
       "      <td>What is it like to have sex with your cousin?</td>\n",
       "      <td>0</td>\n",
       "    </tr>\n",
       "  </tbody>\n",
       "</table>\n",
       "<p>404267 rows × 5 columns</p>\n",
       "</div>"
      ],
      "text/plain": [
       "          qid1    qid2                                          question1  \\\n",
       "id                                                                          \n",
       "0            1       2  What is the step by step guide to invest in sh...   \n",
       "1            3       4  What is the story of Kohinoor (Koh-i-Noor) Dia...   \n",
       "2            5       6  How can I increase the speed of my internet co...   \n",
       "3            7       8  Why am I mentally very lonely? How can I solve...   \n",
       "4            9      10  Which one dissolve in water quikly sugar, salt...   \n",
       "...        ...     ...                                                ...   \n",
       "404285  433578  379845  How many keywords are there in the Racket prog...   \n",
       "404286   18840  155606          Do you believe there is life after death?   \n",
       "404287  537928  537929                                  What is one coin?   \n",
       "404288  537930  537931  What is the approx annual cost of living while...   \n",
       "404289  537932  537933              What is like to have sex with cousin?   \n",
       "\n",
       "                                                question2  is_duplicate  \n",
       "id                                                                       \n",
       "0       What is the step by step guide to invest in sh...             0  \n",
       "1       What would happen if the Indian government sto...             0  \n",
       "2       How can Internet speed be increased by hacking...             0  \n",
       "3       Find the remainder when [math]23^{24}[/math] i...             0  \n",
       "4                 Which fish would survive in salt water?             0  \n",
       "...                                                   ...           ...  \n",
       "404285  How many keywords are there in PERL Programmin...             0  \n",
       "404286         Is it true that there is life after death?             1  \n",
       "404287                                  What's this coin?             0  \n",
       "404288  I am having little hairfall problem but I want...             0  \n",
       "404289      What is it like to have sex with your cousin?             0  \n",
       "\n",
       "[404267 rows x 5 columns]"
      ]
     },
     "execution_count": 8,
     "metadata": {},
     "output_type": "execute_result"
    }
   ],
   "source": [
    "df"
   ]
  },
  {
   "cell_type": "code",
   "execution_count": 128,
   "metadata": {},
   "outputs": [],
   "source": [
    "#Split into question 1 and question 2 and then run the remove_words"
   ]
  },
  {
   "cell_type": "code",
   "execution_count": 9,
   "metadata": {
    "scrolled": true
   },
   "outputs": [],
   "source": [
    "question1 = df['question1']\n",
    "question1 = question1.str.replace('\\\\n', ' ', regex= True)"
   ]
  },
  {
   "cell_type": "code",
   "execution_count": 10,
   "metadata": {},
   "outputs": [],
   "source": [
    "np.savetxt('C:\\\\Users\\\\danie\\\\PycharmProjects\\\\NLP_project\\\\data\\\\corpus\\\\question1.txt', question1.values, fmt='%s', encoding = 'utf-8', delimiter ='\\n')"
   ]
  },
  {
   "cell_type": "code",
   "execution_count": 11,
   "metadata": {
    "scrolled": true
   },
   "outputs": [],
   "source": [
    "question2 = df['question2']\n",
    "question2 = question2.str.replace('\\\\n', ' ', regex= True)"
   ]
  },
  {
   "cell_type": "code",
   "execution_count": 12,
   "metadata": {},
   "outputs": [],
   "source": [
    "np.savetxt('C:\\\\Users\\\\danie\\\\PycharmProjects\\\\NLP_project\\\\data\\\\corpus\\\\question2.txt', question2.values, fmt = '%s', encoding = 'utf-8', delimiter ='\\n')"
   ]
  },
  {
   "cell_type": "markdown",
   "metadata": {},
   "source": [
    "Extracted and saved question 1 and question 2 of the dataframe. Will now replace in the dataframe the original with the cleaned one"
   ]
  },
  {
   "cell_type": "code",
   "execution_count": 13,
   "metadata": {
    "scrolled": true
   },
   "outputs": [],
   "source": [
    "question1_clean = pd.read_csv('C:\\\\Users\\\\danie\\\\PycharmProjects\\\\NLP_project\\\\data\\\\corpus\\\\question1.clean.txt', sep=\"\\n\", names=['Clean'])\n",
    "question2_clean = pd.read_csv('C:\\\\Users\\\\danie\\\\PycharmProjects\\\\NLP_project\\\\data\\\\corpus\\\\question2.clean.txt', sep=\"\\n\", names=['Clean'])"
   ]
  },
  {
   "cell_type": "markdown",
   "metadata": {},
   "source": [
    "We are getting some NaN cells which we remove from both questions"
   ]
  },
  {
   "cell_type": "code",
   "execution_count": 14,
   "metadata": {
    "scrolled": true
   },
   "outputs": [],
   "source": [
    "df['question1_clean'] = question1_clean.values\n",
    "df['question2_clean'] = question2_clean.values"
   ]
  },
  {
   "cell_type": "code",
   "execution_count": 15,
   "metadata": {},
   "outputs": [],
   "source": [
    "null_ind = df.isnull()"
   ]
  },
  {
   "cell_type": "code",
   "execution_count": 16,
   "metadata": {},
   "outputs": [],
   "source": [
    "null_val1 = null_ind[null_ind['question1_clean']==True]"
   ]
  },
  {
   "cell_type": "code",
   "execution_count": 17,
   "metadata": {
    "scrolled": false
   },
   "outputs": [],
   "source": [
    "null_val2 = null_ind[null_ind['question2_clean']==True]"
   ]
  },
  {
   "cell_type": "code",
   "execution_count": 18,
   "metadata": {},
   "outputs": [],
   "source": [
    "null_val = pd.concat([null_val1, null_val2])"
   ]
  },
  {
   "cell_type": "code",
   "execution_count": 19,
   "metadata": {
    "scrolled": true
   },
   "outputs": [
    {
     "data": {
      "text/html": [
       "<div>\n",
       "<style scoped>\n",
       "    .dataframe tbody tr th:only-of-type {\n",
       "        vertical-align: middle;\n",
       "    }\n",
       "\n",
       "    .dataframe tbody tr th {\n",
       "        vertical-align: top;\n",
       "    }\n",
       "\n",
       "    .dataframe thead th {\n",
       "        text-align: right;\n",
       "    }\n",
       "</style>\n",
       "<table border=\"1\" class=\"dataframe\">\n",
       "  <thead>\n",
       "    <tr style=\"text-align: right;\">\n",
       "      <th></th>\n",
       "      <th>qid1</th>\n",
       "      <th>qid2</th>\n",
       "      <th>question1</th>\n",
       "      <th>question2</th>\n",
       "      <th>is_duplicate</th>\n",
       "      <th>question1_clean</th>\n",
       "      <th>question2_clean</th>\n",
       "    </tr>\n",
       "    <tr>\n",
       "      <th>id</th>\n",
       "      <th></th>\n",
       "      <th></th>\n",
       "      <th></th>\n",
       "      <th></th>\n",
       "      <th></th>\n",
       "      <th></th>\n",
       "      <th></th>\n",
       "    </tr>\n",
       "  </thead>\n",
       "  <tbody>\n",
       "    <tr>\n",
       "      <th>363362</th>\n",
       "      <td>False</td>\n",
       "      <td>False</td>\n",
       "      <td>True</td>\n",
       "      <td>False</td>\n",
       "      <td>False</td>\n",
       "      <td>True</td>\n",
       "      <td>False</td>\n",
       "    </tr>\n",
       "    <tr>\n",
       "      <th>105780</th>\n",
       "      <td>False</td>\n",
       "      <td>False</td>\n",
       "      <td>False</td>\n",
       "      <td>True</td>\n",
       "      <td>False</td>\n",
       "      <td>False</td>\n",
       "      <td>True</td>\n",
       "    </tr>\n",
       "    <tr>\n",
       "      <th>141281</th>\n",
       "      <td>False</td>\n",
       "      <td>False</td>\n",
       "      <td>False</td>\n",
       "      <td>False</td>\n",
       "      <td>False</td>\n",
       "      <td>False</td>\n",
       "      <td>True</td>\n",
       "    </tr>\n",
       "    <tr>\n",
       "      <th>201841</th>\n",
       "      <td>False</td>\n",
       "      <td>False</td>\n",
       "      <td>False</td>\n",
       "      <td>True</td>\n",
       "      <td>False</td>\n",
       "      <td>False</td>\n",
       "      <td>True</td>\n",
       "    </tr>\n",
       "    <tr>\n",
       "      <th>205947</th>\n",
       "      <td>False</td>\n",
       "      <td>False</td>\n",
       "      <td>False</td>\n",
       "      <td>False</td>\n",
       "      <td>False</td>\n",
       "      <td>False</td>\n",
       "      <td>True</td>\n",
       "    </tr>\n",
       "  </tbody>\n",
       "</table>\n",
       "</div>"
      ],
      "text/plain": [
       "         qid1   qid2  question1  question2  is_duplicate  question1_clean  \\\n",
       "id                                                                          \n",
       "363362  False  False       True      False         False             True   \n",
       "105780  False  False      False       True         False            False   \n",
       "141281  False  False      False      False         False            False   \n",
       "201841  False  False      False       True         False            False   \n",
       "205947  False  False      False      False         False            False   \n",
       "\n",
       "        question2_clean  \n",
       "id                       \n",
       "363362            False  \n",
       "105780             True  \n",
       "141281             True  \n",
       "201841             True  \n",
       "205947             True  "
      ]
     },
     "execution_count": 19,
     "metadata": {},
     "output_type": "execute_result"
    }
   ],
   "source": [
    "null_val"
   ]
  },
  {
   "cell_type": "code",
   "execution_count": 20,
   "metadata": {
    "scrolled": true
   },
   "outputs": [],
   "source": [
    "df = df.drop(null_val.index)"
   ]
  },
  {
   "cell_type": "code",
   "execution_count": 21,
   "metadata": {},
   "outputs": [],
   "source": [
    "df = df.drop(columns = ['qid1', 'qid2'])"
   ]
  },
  {
   "cell_type": "code",
   "execution_count": 22,
   "metadata": {},
   "outputs": [],
   "source": [
    "def additional_cleaning(text):\n",
    "    text = re.sub(r\"[^A-Za-z0-9^,!.\\/'+-=]\", \" \", text)\n",
    "    text = re.sub(r\"what's\", \"what is \", text)\n",
    "    text = re.sub(r\"\\'s\", \" \", text)\n",
    "    text = re.sub(r\"\\'ve\", \" have \", text)\n",
    "    text = re.sub(r\"can't\", \"cannot \", text)\n",
    "    text = re.sub(r\"n't\", \" not \", text)\n",
    "    text = re.sub(r\"i'm\", \"i am \", text)\n",
    "    text = re.sub(r\"\\'re\", \" are \", text)\n",
    "    text = re.sub(r\"\\'d\", \" would \", text)\n",
    "    text = re.sub(r\"\\'ll\", \" will \", text)\n",
    "    text = re.sub(r\",\", \" \", text)\n",
    "    text = re.sub(r\"\\.\", \" \", text)\n",
    "    text = re.sub(r\"!\", \" ! \", text)\n",
    "    text = re.sub(r\"\\/\", \" \", text)\n",
    "    text = re.sub(r\"\\^\", \" ^ \", text)\n",
    "    text = re.sub(r\"\\+\", \" + \", text)\n",
    "    text = re.sub(r\"\\-\", \" - \", text)\n",
    "    text = re.sub(r\"\\=\", \" = \", text)\n",
    "    text = re.sub(r\"'\", \" \", text)\n",
    "    text = re.sub(r\"(\\d+)(k)\", r\"\\g<1>000\", text)\n",
    "    text = re.sub(r\":\", \" : \", text)\n",
    "    text = re.sub(r\" e g \", \" eg \", text)\n",
    "    text = re.sub(r\" b g \", \" bg \", text)\n",
    "    text = re.sub(r\" u s \", \" american \", text)\n",
    "    text = re.sub(r\"\\0s\", \"0\", text)\n",
    "    text = re.sub(r\" 9 11 \", \"911\", text)\n",
    "    text = re.sub(r\"e - mail\", \"email\", text)\n",
    "    text = re.sub(r\"j k\", \"jk\", text)\n",
    "    text = re.sub(r\"\\s{2,}\", \" \", text)\n",
    "    return text"
   ]
  },
  {
   "cell_type": "code",
   "execution_count": 23,
   "metadata": {
    "scrolled": true
   },
   "outputs": [],
   "source": [
    "df['question1_clean_clean']= df.apply(lambda row: additional_cleaning(row['question1_clean']), axis=1)\n",
    "df['question2_clean_clean']= df.apply(lambda row: additional_cleaning(row['question2_clean']), axis=1)\n"
   ]
  },
  {
   "cell_type": "code",
   "execution_count": 24,
   "metadata": {},
   "outputs": [],
   "source": [
    "df['tokenized_sents1'] = df.apply(lambda row: len(re.findall(r'\\w+', row['question1_clean_clean'])), axis=1)\n",
    "df['tokenized_sents2'] = df.apply(lambda row: len(re.findall(r'\\w+', row['question2_clean_clean'])), axis=1)"
   ]
  },
  {
   "cell_type": "code",
   "execution_count": 25,
   "metadata": {},
   "outputs": [
    {
     "data": {
      "text/plain": [
       "0"
      ]
     },
     "execution_count": 25,
     "metadata": {},
     "output_type": "execute_result"
    }
   ],
   "source": [
    "df['tokenized_sents1'][13016]"
   ]
  },
  {
   "cell_type": "code",
   "execution_count": 26,
   "metadata": {},
   "outputs": [],
   "source": [
    "empty_1 = list(df[df['tokenized_sents1'] == 0].index)\n",
    "empty_2 = list(df[df['tokenized_sents2'] == 0].index)\n",
    "empty = empty_1 +empty_2"
   ]
  },
  {
   "cell_type": "code",
   "execution_count": 27,
   "metadata": {},
   "outputs": [],
   "source": [
    "df = df.drop(empty)"
   ]
  },
  {
   "cell_type": "markdown",
   "metadata": {},
   "source": [
    "Import the quora train test split according to literature and match the cleaned dataframe to that one"
   ]
  },
  {
   "cell_type": "code",
   "execution_count": 28,
   "metadata": {},
   "outputs": [],
   "source": [
    "def open_in_pd(path, file_name):\n",
    "    df =  pd.read_csv(path+file_name+'.tsv', sep='\\t', header=None)\n",
    "    df.columns = ['label','question1','question2','index']\n",
    "    return df"
   ]
  },
  {
   "cell_type": "code",
   "execution_count": 29,
   "metadata": {},
   "outputs": [],
   "source": [
    "train = open_in_pd('C:\\\\Users\\\\danie\\\\PycharmProjects\\\\NLP_project\\\\data\\\\Quora_question_pair_partition\\\\', 'train')\n",
    "test = open_in_pd('C:\\\\Users\\\\danie\\\\PycharmProjects\\\\NLP_project\\\\data\\\\Quora_question_pair_partition\\\\', 'test')\n",
    "dev = open_in_pd('C:\\\\Users\\\\danie\\\\PycharmProjects\\\\NLP_project\\\\data\\\\Quora_question_pair_partition\\\\', 'dev')"
   ]
  },
  {
   "cell_type": "code",
   "execution_count": 30,
   "metadata": {},
   "outputs": [
    {
     "data": {
      "text/plain": [
       "384348"
      ]
     },
     "execution_count": 30,
     "metadata": {},
     "output_type": "execute_result"
    }
   ],
   "source": [
    "len(train)"
   ]
  },
  {
   "cell_type": "code",
   "execution_count": 31,
   "metadata": {
    "scrolled": true
   },
   "outputs": [
    {
     "data": {
      "text/plain": [
       "10000"
      ]
     },
     "execution_count": 31,
     "metadata": {},
     "output_type": "execute_result"
    }
   ],
   "source": [
    "len(dev)"
   ]
  },
  {
   "cell_type": "code",
   "execution_count": 32,
   "metadata": {},
   "outputs": [
    {
     "data": {
      "text/plain": [
       "10000"
      ]
     },
     "execution_count": 32,
     "metadata": {},
     "output_type": "execute_result"
    }
   ],
   "source": [
    "len(test)"
   ]
  },
  {
   "cell_type": "code",
   "execution_count": 33,
   "metadata": {
    "scrolled": false
   },
   "outputs": [],
   "source": [
    "train = pd.concat([train, dev])\n"
   ]
  },
  {
   "cell_type": "code",
   "execution_count": 34,
   "metadata": {},
   "outputs": [
    {
     "data": {
      "text/plain": [
       "394348"
      ]
     },
     "execution_count": 34,
     "metadata": {},
     "output_type": "execute_result"
    }
   ],
   "source": [
    "train_ind = train['index'].tolist()\n",
    "len(train_ind)"
   ]
  },
  {
   "cell_type": "code",
   "execution_count": 35,
   "metadata": {
    "scrolled": true
   },
   "outputs": [
    {
     "data": {
      "text/html": [
       "<div>\n",
       "<style scoped>\n",
       "    .dataframe tbody tr th:only-of-type {\n",
       "        vertical-align: middle;\n",
       "    }\n",
       "\n",
       "    .dataframe tbody tr th {\n",
       "        vertical-align: top;\n",
       "    }\n",
       "\n",
       "    .dataframe thead th {\n",
       "        text-align: right;\n",
       "    }\n",
       "</style>\n",
       "<table border=\"1\" class=\"dataframe\">\n",
       "  <thead>\n",
       "    <tr style=\"text-align: right;\">\n",
       "      <th></th>\n",
       "      <th>label</th>\n",
       "      <th>question1</th>\n",
       "      <th>question2</th>\n",
       "      <th>index</th>\n",
       "    </tr>\n",
       "  </thead>\n",
       "  <tbody>\n",
       "    <tr>\n",
       "      <th>255608</th>\n",
       "      <td>0</td>\n",
       "      <td>What is the step by step guide to invest in sh...</td>\n",
       "      <td>What is the step by step guide to invest in sh...</td>\n",
       "      <td>0</td>\n",
       "    </tr>\n",
       "    <tr>\n",
       "      <th>233001</th>\n",
       "      <td>0</td>\n",
       "      <td>What is the story of Kohinoor -LRB- Koh-i-Noor...</td>\n",
       "      <td>What would happen if the Indian government sto...</td>\n",
       "      <td>1</td>\n",
       "    </tr>\n",
       "    <tr>\n",
       "      <th>194764</th>\n",
       "      <td>0</td>\n",
       "      <td>How can I increase the speed of my internet co...</td>\n",
       "      <td>How can Internet speed be increased by hacking...</td>\n",
       "      <td>2</td>\n",
       "    </tr>\n",
       "    <tr>\n",
       "      <th>195499</th>\n",
       "      <td>0</td>\n",
       "      <td>Why am I mentally very lonely ? How can I solv...</td>\n",
       "      <td>Find the remainder when -LSB- math -RSB- 23 ^ ...</td>\n",
       "      <td>3</td>\n",
       "    </tr>\n",
       "    <tr>\n",
       "      <th>216934</th>\n",
       "      <td>0</td>\n",
       "      <td>Which one dissolve in water quikly sugar , sal...</td>\n",
       "      <td>Which fish would survive in salt water ?</td>\n",
       "      <td>4</td>\n",
       "    </tr>\n",
       "    <tr>\n",
       "      <th>...</th>\n",
       "      <td>...</td>\n",
       "      <td>...</td>\n",
       "      <td>...</td>\n",
       "      <td>...</td>\n",
       "    </tr>\n",
       "    <tr>\n",
       "      <th>12343</th>\n",
       "      <td>0</td>\n",
       "      <td>How many keywords are there in the Racket prog...</td>\n",
       "      <td>How many keywords are there in PERL Programmin...</td>\n",
       "      <td>404346</td>\n",
       "    </tr>\n",
       "    <tr>\n",
       "      <th>151400</th>\n",
       "      <td>1</td>\n",
       "      <td>Do you believe there is life after death ?</td>\n",
       "      <td>Is it true that there is life after death ?</td>\n",
       "      <td>404347</td>\n",
       "    </tr>\n",
       "    <tr>\n",
       "      <th>352700</th>\n",
       "      <td>0</td>\n",
       "      <td>What is one coin ?</td>\n",
       "      <td>What 's this coin ?</td>\n",
       "      <td>404348</td>\n",
       "    </tr>\n",
       "    <tr>\n",
       "      <th>32895</th>\n",
       "      <td>0</td>\n",
       "      <td>What is the approx annual cost of living while...</td>\n",
       "      <td>I am having little hairfall problem but I want...</td>\n",
       "      <td>404349</td>\n",
       "    </tr>\n",
       "    <tr>\n",
       "      <th>53061</th>\n",
       "      <td>0</td>\n",
       "      <td>What is like to have sex with cousin ?</td>\n",
       "      <td>What is it like to have sex with your cousin ?</td>\n",
       "      <td>404350</td>\n",
       "    </tr>\n",
       "  </tbody>\n",
       "</table>\n",
       "<p>394348 rows × 4 columns</p>\n",
       "</div>"
      ],
      "text/plain": [
       "        label                                          question1  \\\n",
       "255608      0  What is the step by step guide to invest in sh...   \n",
       "233001      0  What is the story of Kohinoor -LRB- Koh-i-Noor...   \n",
       "194764      0  How can I increase the speed of my internet co...   \n",
       "195499      0  Why am I mentally very lonely ? How can I solv...   \n",
       "216934      0  Which one dissolve in water quikly sugar , sal...   \n",
       "...       ...                                                ...   \n",
       "12343       0  How many keywords are there in the Racket prog...   \n",
       "151400      1         Do you believe there is life after death ?   \n",
       "352700      0                                 What is one coin ?   \n",
       "32895       0  What is the approx annual cost of living while...   \n",
       "53061       0             What is like to have sex with cousin ?   \n",
       "\n",
       "                                                question2   index  \n",
       "255608  What is the step by step guide to invest in sh...       0  \n",
       "233001  What would happen if the Indian government sto...       1  \n",
       "194764  How can Internet speed be increased by hacking...       2  \n",
       "195499  Find the remainder when -LSB- math -RSB- 23 ^ ...       3  \n",
       "216934           Which fish would survive in salt water ?       4  \n",
       "...                                                   ...     ...  \n",
       "12343   How many keywords are there in PERL Programmin...  404346  \n",
       "151400        Is it true that there is life after death ?  404347  \n",
       "352700                                What 's this coin ?  404348  \n",
       "32895   I am having little hairfall problem but I want...  404349  \n",
       "53061      What is it like to have sex with your cousin ?  404350  \n",
       "\n",
       "[394348 rows x 4 columns]"
      ]
     },
     "execution_count": 35,
     "metadata": {},
     "output_type": "execute_result"
    }
   ],
   "source": [
    "train.sort_values(by=['index'])\n"
   ]
  },
  {
   "cell_type": "code",
   "execution_count": 36,
   "metadata": {},
   "outputs": [
    {
     "data": {
      "text/plain": [
       "10000"
      ]
     },
     "execution_count": 36,
     "metadata": {},
     "output_type": "execute_result"
    }
   ],
   "source": [
    "test_ind = test['index'].tolist()\n",
    "len(test_ind)"
   ]
  },
  {
   "cell_type": "code",
   "execution_count": 37,
   "metadata": {
    "scrolled": true
   },
   "outputs": [
    {
     "data": {
      "text/plain": [
       "404348"
      ]
     },
     "execution_count": 37,
     "metadata": {},
     "output_type": "execute_result"
    }
   ],
   "source": [
    "test_train_ind = train_ind+test_ind\n",
    "len(test_train_ind)"
   ]
  },
  {
   "cell_type": "code",
   "execution_count": 38,
   "metadata": {
    "scrolled": false
   },
   "outputs": [
    {
     "data": {
      "text/html": [
       "<div>\n",
       "<style scoped>\n",
       "    .dataframe tbody tr th:only-of-type {\n",
       "        vertical-align: middle;\n",
       "    }\n",
       "\n",
       "    .dataframe tbody tr th {\n",
       "        vertical-align: top;\n",
       "    }\n",
       "\n",
       "    .dataframe thead th {\n",
       "        text-align: right;\n",
       "    }\n",
       "</style>\n",
       "<table border=\"1\" class=\"dataframe\">\n",
       "  <thead>\n",
       "    <tr style=\"text-align: right;\">\n",
       "      <th></th>\n",
       "      <th>question1</th>\n",
       "      <th>question2</th>\n",
       "      <th>is_duplicate</th>\n",
       "      <th>question1_clean</th>\n",
       "      <th>question2_clean</th>\n",
       "      <th>question1_clean_clean</th>\n",
       "      <th>question2_clean_clean</th>\n",
       "      <th>tokenized_sents1</th>\n",
       "      <th>tokenized_sents2</th>\n",
       "    </tr>\n",
       "    <tr>\n",
       "      <th>id</th>\n",
       "      <th></th>\n",
       "      <th></th>\n",
       "      <th></th>\n",
       "      <th></th>\n",
       "      <th></th>\n",
       "      <th></th>\n",
       "      <th></th>\n",
       "      <th></th>\n",
       "      <th></th>\n",
       "    </tr>\n",
       "  </thead>\n",
       "  <tbody>\n",
       "    <tr>\n",
       "      <th>0</th>\n",
       "      <td>What is the step by step guide to invest in sh...</td>\n",
       "      <td>What is the step by step guide to invest in sh...</td>\n",
       "      <td>0</td>\n",
       "      <td>step step guide invest share market india \\?</td>\n",
       "      <td>step step guide invest share market \\?</td>\n",
       "      <td>step step guide invest share market india</td>\n",
       "      <td>step step guide invest share market</td>\n",
       "      <td>7</td>\n",
       "      <td>6</td>\n",
       "    </tr>\n",
       "    <tr>\n",
       "      <th>1</th>\n",
       "      <td>What is the story of Kohinoor (Koh-i-Noor) Dia...</td>\n",
       "      <td>What would happen if the Indian government sto...</td>\n",
       "      <td>0</td>\n",
       "      <td>story kohinoor \\( koh noor \\) diamond \\?</td>\n",
       "      <td>would happen indian government stole kohinoor ...</td>\n",
       "      <td>story kohinoor koh noor diamond</td>\n",
       "      <td>would happen indian government stole kohinoor ...</td>\n",
       "      <td>5</td>\n",
       "      <td>10</td>\n",
       "    </tr>\n",
       "    <tr>\n",
       "      <th>2</th>\n",
       "      <td>How can I increase the speed of my internet co...</td>\n",
       "      <td>How can Internet speed be increased by hacking...</td>\n",
       "      <td>0</td>\n",
       "      <td>increase speed internet connection using vpn \\?</td>\n",
       "      <td>internet speed increased hacking dns \\?</td>\n",
       "      <td>increase speed internet connection using vpn</td>\n",
       "      <td>internet speed increased hacking dns</td>\n",
       "      <td>6</td>\n",
       "      <td>5</td>\n",
       "    </tr>\n",
       "    <tr>\n",
       "      <th>3</th>\n",
       "      <td>Why am I mentally very lonely? How can I solve...</td>\n",
       "      <td>Find the remainder when [math]23^{24}[/math] i...</td>\n",
       "      <td>0</td>\n",
       "      <td>mentally lonely \\? solve \\?</td>\n",
       "      <td>find remainder math 23 24 math divided 24 , 23 \\?</td>\n",
       "      <td>mentally lonely solve</td>\n",
       "      <td>find remainder math 23 24 math divided 24 23</td>\n",
       "      <td>3</td>\n",
       "      <td>9</td>\n",
       "    </tr>\n",
       "    <tr>\n",
       "      <th>4</th>\n",
       "      <td>Which one dissolve in water quikly sugar, salt...</td>\n",
       "      <td>Which fish would survive in salt water?</td>\n",
       "      <td>0</td>\n",
       "      <td>one dissolve water quikly sugar , salt , metha...</td>\n",
       "      <td>fish would survive salt water \\?</td>\n",
       "      <td>one dissolve water quikly sugar salt methane c...</td>\n",
       "      <td>fish would survive salt water</td>\n",
       "      <td>10</td>\n",
       "      <td>5</td>\n",
       "    </tr>\n",
       "    <tr>\n",
       "      <th>...</th>\n",
       "      <td>...</td>\n",
       "      <td>...</td>\n",
       "      <td>...</td>\n",
       "      <td>...</td>\n",
       "      <td>...</td>\n",
       "      <td>...</td>\n",
       "      <td>...</td>\n",
       "      <td>...</td>\n",
       "      <td>...</td>\n",
       "    </tr>\n",
       "    <tr>\n",
       "      <th>404285</th>\n",
       "      <td>How many keywords are there in the Racket prog...</td>\n",
       "      <td>How many keywords are there in PERL Programmin...</td>\n",
       "      <td>0</td>\n",
       "      <td>many keywords racket programming language late...</td>\n",
       "      <td>many keywords perl programming language latest...</td>\n",
       "      <td>many keywords racket programming language late...</td>\n",
       "      <td>many keywords perl programming language latest...</td>\n",
       "      <td>7</td>\n",
       "      <td>7</td>\n",
       "    </tr>\n",
       "    <tr>\n",
       "      <th>404286</th>\n",
       "      <td>Do you believe there is life after death?</td>\n",
       "      <td>Is it true that there is life after death?</td>\n",
       "      <td>1</td>\n",
       "      <td>believe life death \\?</td>\n",
       "      <td>true life death \\?</td>\n",
       "      <td>believe life death</td>\n",
       "      <td>true life death</td>\n",
       "      <td>3</td>\n",
       "      <td>3</td>\n",
       "    </tr>\n",
       "    <tr>\n",
       "      <th>404287</th>\n",
       "      <td>What is one coin?</td>\n",
       "      <td>What's this coin?</td>\n",
       "      <td>0</td>\n",
       "      <td>one coin \\?</td>\n",
       "      <td>'s coin \\?</td>\n",
       "      <td>one coin</td>\n",
       "      <td>coin</td>\n",
       "      <td>2</td>\n",
       "      <td>1</td>\n",
       "    </tr>\n",
       "    <tr>\n",
       "      <th>404288</th>\n",
       "      <td>What is the approx annual cost of living while...</td>\n",
       "      <td>I am having little hairfall problem but I want...</td>\n",
       "      <td>0</td>\n",
       "      <td>approx annual cost living studying uic chicago...</td>\n",
       "      <td>little hairfall problem want use hair styling ...</td>\n",
       "      <td>approx annual cost living studying uic chicago...</td>\n",
       "      <td>little hairfall problem want use hair styling ...</td>\n",
       "      <td>9</td>\n",
       "      <td>13</td>\n",
       "    </tr>\n",
       "    <tr>\n",
       "      <th>404289</th>\n",
       "      <td>What is like to have sex with cousin?</td>\n",
       "      <td>What is it like to have sex with your cousin?</td>\n",
       "      <td>0</td>\n",
       "      <td>like sex cousin \\?</td>\n",
       "      <td>like sex cousin \\?</td>\n",
       "      <td>like sex cousin</td>\n",
       "      <td>like sex cousin</td>\n",
       "      <td>3</td>\n",
       "      <td>3</td>\n",
       "    </tr>\n",
       "  </tbody>\n",
       "</table>\n",
       "<p>404146 rows × 9 columns</p>\n",
       "</div>"
      ],
      "text/plain": [
       "                                                question1  \\\n",
       "id                                                          \n",
       "0       What is the step by step guide to invest in sh...   \n",
       "1       What is the story of Kohinoor (Koh-i-Noor) Dia...   \n",
       "2       How can I increase the speed of my internet co...   \n",
       "3       Why am I mentally very lonely? How can I solve...   \n",
       "4       Which one dissolve in water quikly sugar, salt...   \n",
       "...                                                   ...   \n",
       "404285  How many keywords are there in the Racket prog...   \n",
       "404286          Do you believe there is life after death?   \n",
       "404287                                  What is one coin?   \n",
       "404288  What is the approx annual cost of living while...   \n",
       "404289              What is like to have sex with cousin?   \n",
       "\n",
       "                                                question2  is_duplicate  \\\n",
       "id                                                                        \n",
       "0       What is the step by step guide to invest in sh...             0   \n",
       "1       What would happen if the Indian government sto...             0   \n",
       "2       How can Internet speed be increased by hacking...             0   \n",
       "3       Find the remainder when [math]23^{24}[/math] i...             0   \n",
       "4                 Which fish would survive in salt water?             0   \n",
       "...                                                   ...           ...   \n",
       "404285  How many keywords are there in PERL Programmin...             0   \n",
       "404286         Is it true that there is life after death?             1   \n",
       "404287                                  What's this coin?             0   \n",
       "404288  I am having little hairfall problem but I want...             0   \n",
       "404289      What is it like to have sex with your cousin?             0   \n",
       "\n",
       "                                          question1_clean  \\\n",
       "id                                                          \n",
       "0            step step guide invest share market india \\?   \n",
       "1                story kohinoor \\( koh noor \\) diamond \\?   \n",
       "2         increase speed internet connection using vpn \\?   \n",
       "3                             mentally lonely \\? solve \\?   \n",
       "4       one dissolve water quikly sugar , salt , metha...   \n",
       "...                                                   ...   \n",
       "404285  many keywords racket programming language late...   \n",
       "404286                              believe life death \\?   \n",
       "404287                                        one coin \\?   \n",
       "404288  approx annual cost living studying uic chicago...   \n",
       "404289                                 like sex cousin \\?   \n",
       "\n",
       "                                          question2_clean  \\\n",
       "id                                                          \n",
       "0                  step step guide invest share market \\?   \n",
       "1       would happen indian government stole kohinoor ...   \n",
       "2                 internet speed increased hacking dns \\?   \n",
       "3       find remainder math 23 24 math divided 24 , 23 \\?   \n",
       "4                        fish would survive salt water \\?   \n",
       "...                                                   ...   \n",
       "404285  many keywords perl programming language latest...   \n",
       "404286                                 true life death \\?   \n",
       "404287                                         's coin \\?   \n",
       "404288  little hairfall problem want use hair styling ...   \n",
       "404289                                 like sex cousin \\?   \n",
       "\n",
       "                                    question1_clean_clean  \\\n",
       "id                                                          \n",
       "0              step step guide invest share market india    \n",
       "1                        story kohinoor koh noor diamond    \n",
       "2           increase speed internet connection using vpn    \n",
       "3                                  mentally lonely solve    \n",
       "4       one dissolve water quikly sugar salt methane c...   \n",
       "...                                                   ...   \n",
       "404285  many keywords racket programming language late...   \n",
       "404286                                believe life death    \n",
       "404287                                          one coin    \n",
       "404288  approx annual cost living studying uic chicago...   \n",
       "404289                                   like sex cousin    \n",
       "\n",
       "                                    question2_clean_clean  tokenized_sents1  \\\n",
       "id                                                                            \n",
       "0                    step step guide invest share market                  7   \n",
       "1       would happen indian government stole kohinoor ...                 5   \n",
       "2                   internet speed increased hacking dns                  6   \n",
       "3           find remainder math 23 24 math divided 24 23                  3   \n",
       "4                          fish would survive salt water                 10   \n",
       "...                                                   ...               ...   \n",
       "404285  many keywords perl programming language latest...                 7   \n",
       "404286                                   true life death                  3   \n",
       "404287                                              coin                  2   \n",
       "404288  little hairfall problem want use hair styling ...                 9   \n",
       "404289                                   like sex cousin                  3   \n",
       "\n",
       "        tokenized_sents2  \n",
       "id                        \n",
       "0                      6  \n",
       "1                     10  \n",
       "2                      5  \n",
       "3                      9  \n",
       "4                      5  \n",
       "...                  ...  \n",
       "404285                 7  \n",
       "404286                 3  \n",
       "404287                 1  \n",
       "404288                13  \n",
       "404289                 3  \n",
       "\n",
       "[404146 rows x 9 columns]"
      ]
     },
     "execution_count": 38,
     "metadata": {},
     "output_type": "execute_result"
    }
   ],
   "source": [
    "df_match = df[df.index.isin(test_train_ind)]\n",
    "df_match"
   ]
  },
  {
   "cell_type": "code",
   "execution_count": 39,
   "metadata": {
    "scrolled": true
   },
   "outputs": [],
   "source": [
    "df_train = df[df.index.isin(train_ind)]"
   ]
  },
  {
   "cell_type": "markdown",
   "metadata": {},
   "source": [
    "Only keep sentences shorter than 30 tokens in the training set"
   ]
  },
  {
   "cell_type": "code",
   "execution_count": 40,
   "metadata": {},
   "outputs": [
    {
     "data": {
      "text/plain": [
       "233"
      ]
     },
     "execution_count": 40,
     "metadata": {},
     "output_type": "execute_result"
    }
   ],
   "source": [
    "short_q1 = df_train.loc[df['tokenized_sents1']>30]\n",
    "short_q2 = df_train.loc[df['tokenized_sents2']>30]\n",
    "short_sents = short_q1.index.tolist() +short_q2.index.tolist()\n",
    "len(short_sents)"
   ]
  },
  {
   "cell_type": "code",
   "execution_count": 41,
   "metadata": {},
   "outputs": [],
   "source": [
    "df_train = df_train.drop(short_sents)"
   ]
  },
  {
   "cell_type": "code",
   "execution_count": 42,
   "metadata": {},
   "outputs": [
    {
     "name": "stderr",
     "output_type": "stream",
     "text": [
      "C:\\Users\\danie\\Anaconda3\\lib\\site-packages\\ipykernel_launcher.py:2: SettingWithCopyWarning: \n",
      "A value is trying to be set on a copy of a slice from a DataFrame.\n",
      "Try using .loc[row_indexer,col_indexer] = value instead\n",
      "\n",
      "See the caveats in the documentation: https://pandas.pydata.org/pandas-docs/stable/user_guide/indexing.html#returning-a-view-versus-a-copy\n",
      "  \n",
      "C:\\Users\\danie\\Anaconda3\\lib\\site-packages\\ipykernel_launcher.py:4: SettingWithCopyWarning: \n",
      "A value is trying to be set on a copy of a slice from a DataFrame.\n",
      "Try using .loc[row_indexer,col_indexer] = value instead\n",
      "\n",
      "See the caveats in the documentation: https://pandas.pydata.org/pandas-docs/stable/user_guide/indexing.html#returning-a-view-versus-a-copy\n",
      "  after removing the cwd from sys.path.\n"
     ]
    },
    {
     "data": {
      "text/html": [
       "<div>\n",
       "<style scoped>\n",
       "    .dataframe tbody tr th:only-of-type {\n",
       "        vertical-align: middle;\n",
       "    }\n",
       "\n",
       "    .dataframe tbody tr th {\n",
       "        vertical-align: top;\n",
       "    }\n",
       "\n",
       "    .dataframe thead th {\n",
       "        text-align: right;\n",
       "    }\n",
       "</style>\n",
       "<table border=\"1\" class=\"dataframe\">\n",
       "  <thead>\n",
       "    <tr style=\"text-align: right;\">\n",
       "      <th></th>\n",
       "      <th>index</th>\n",
       "      <th>label</th>\n",
       "      <th>train_test</th>\n",
       "    </tr>\n",
       "    <tr>\n",
       "      <th>id</th>\n",
       "      <th></th>\n",
       "      <th></th>\n",
       "      <th></th>\n",
       "    </tr>\n",
       "  </thead>\n",
       "  <tbody>\n",
       "    <tr>\n",
       "      <th>0</th>\n",
       "      <td>0</td>\n",
       "      <td>0</td>\n",
       "      <td>train</td>\n",
       "    </tr>\n",
       "    <tr>\n",
       "      <th>1</th>\n",
       "      <td>1</td>\n",
       "      <td>0</td>\n",
       "      <td>train</td>\n",
       "    </tr>\n",
       "    <tr>\n",
       "      <th>2</th>\n",
       "      <td>2</td>\n",
       "      <td>0</td>\n",
       "      <td>train</td>\n",
       "    </tr>\n",
       "    <tr>\n",
       "      <th>3</th>\n",
       "      <td>3</td>\n",
       "      <td>0</td>\n",
       "      <td>train</td>\n",
       "    </tr>\n",
       "    <tr>\n",
       "      <th>4</th>\n",
       "      <td>4</td>\n",
       "      <td>0</td>\n",
       "      <td>train</td>\n",
       "    </tr>\n",
       "    <tr>\n",
       "      <th>...</th>\n",
       "      <td>...</td>\n",
       "      <td>...</td>\n",
       "      <td>...</td>\n",
       "    </tr>\n",
       "    <tr>\n",
       "      <th>404284</th>\n",
       "      <td>404284</td>\n",
       "      <td>1</td>\n",
       "      <td>train</td>\n",
       "    </tr>\n",
       "    <tr>\n",
       "      <th>404285</th>\n",
       "      <td>404285</td>\n",
       "      <td>0</td>\n",
       "      <td>train</td>\n",
       "    </tr>\n",
       "    <tr>\n",
       "      <th>404287</th>\n",
       "      <td>404287</td>\n",
       "      <td>0</td>\n",
       "      <td>train</td>\n",
       "    </tr>\n",
       "    <tr>\n",
       "      <th>404288</th>\n",
       "      <td>404288</td>\n",
       "      <td>0</td>\n",
       "      <td>train</td>\n",
       "    </tr>\n",
       "    <tr>\n",
       "      <th>404289</th>\n",
       "      <td>404289</td>\n",
       "      <td>0</td>\n",
       "      <td>train</td>\n",
       "    </tr>\n",
       "  </tbody>\n",
       "</table>\n",
       "<p>393922 rows × 3 columns</p>\n",
       "</div>"
      ],
      "text/plain": [
       "         index  label train_test\n",
       "id                              \n",
       "0            0      0      train\n",
       "1            1      0      train\n",
       "2            2      0      train\n",
       "3            3      0      train\n",
       "4            4      0      train\n",
       "...        ...    ...        ...\n",
       "404284  404284      1      train\n",
       "404285  404285      0      train\n",
       "404287  404287      0      train\n",
       "404288  404288      0      train\n",
       "404289  404289      0      train\n",
       "\n",
       "[393922 rows x 3 columns]"
      ]
     },
     "execution_count": 42,
     "metadata": {},
     "output_type": "execute_result"
    }
   ],
   "source": [
    "df_train_ind = df_train[['is_duplicate']]\n",
    "df_train_ind['train_test'] = 'train'\n",
    "df_train_ind.columns = ['label', 'train_test']\n",
    "df_train_ind['index'] = df_train_ind.index\n",
    "df_train_ind = df_train_ind[['index','label', 'train_test']]\n",
    "df_train_ind"
   ]
  },
  {
   "cell_type": "markdown",
   "metadata": {},
   "source": [
    "Balance the training "
   ]
  },
  {
   "cell_type": "code",
   "execution_count": 43,
   "metadata": {
    "scrolled": true
   },
   "outputs": [
    {
     "data": {
      "text/plain": [
       "0    248452\n",
       "1    145470\n",
       "Name: label, dtype: int64"
      ]
     },
     "execution_count": 43,
     "metadata": {},
     "output_type": "execute_result"
    }
   ],
   "source": [
    "df_train_ind[df_train_ind['train_test']=='train']['label'].value_counts()"
   ]
  },
  {
   "cell_type": "code",
   "execution_count": 44,
   "metadata": {},
   "outputs": [],
   "source": [
    "majority = df_train_ind.loc[df_train_ind['label']==0].count()[0]\n",
    "minority = df_train_ind.loc[df_train_ind['label']==1].count()[0]"
   ]
  },
  {
   "cell_type": "code",
   "execution_count": 45,
   "metadata": {},
   "outputs": [
    {
     "data": {
      "text/plain": [
       "1    145470\n",
       "0    145470\n",
       "Name: label, dtype: int64"
      ]
     },
     "execution_count": 45,
     "metadata": {},
     "output_type": "execute_result"
    }
   ],
   "source": [
    "np.random.seed(11)\n",
    "remove_n = majority - minority\n",
    "drop_indices = np.random.choice(df_train_ind[df_train_ind['label']==0].index, remove_n, replace=False)\n",
    "df_train_ind_balanced = df_train_ind.drop(drop_indices)\n",
    "df_train_ind_balanced['label'].value_counts()"
   ]
  },
  {
   "cell_type": "code",
   "execution_count": 46,
   "metadata": {
    "scrolled": false
   },
   "outputs": [
    {
     "name": "stderr",
     "output_type": "stream",
     "text": [
      "C:\\Users\\danie\\Anaconda3\\lib\\site-packages\\ipykernel_launcher.py:3: SettingWithCopyWarning: \n",
      "A value is trying to be set on a copy of a slice from a DataFrame.\n",
      "Try using .loc[row_indexer,col_indexer] = value instead\n",
      "\n",
      "See the caveats in the documentation: https://pandas.pydata.org/pandas-docs/stable/user_guide/indexing.html#returning-a-view-versus-a-copy\n",
      "  This is separate from the ipykernel package so we can avoid doing imports until\n",
      "C:\\Users\\danie\\Anaconda3\\lib\\site-packages\\ipykernel_launcher.py:5: SettingWithCopyWarning: \n",
      "A value is trying to be set on a copy of a slice from a DataFrame.\n",
      "Try using .loc[row_indexer,col_indexer] = value instead\n",
      "\n",
      "See the caveats in the documentation: https://pandas.pydata.org/pandas-docs/stable/user_guide/indexing.html#returning-a-view-versus-a-copy\n",
      "  \"\"\"\n"
     ]
    },
    {
     "data": {
      "text/html": [
       "<div>\n",
       "<style scoped>\n",
       "    .dataframe tbody tr th:only-of-type {\n",
       "        vertical-align: middle;\n",
       "    }\n",
       "\n",
       "    .dataframe tbody tr th {\n",
       "        vertical-align: top;\n",
       "    }\n",
       "\n",
       "    .dataframe thead th {\n",
       "        text-align: right;\n",
       "    }\n",
       "</style>\n",
       "<table border=\"1\" class=\"dataframe\">\n",
       "  <thead>\n",
       "    <tr style=\"text-align: right;\">\n",
       "      <th></th>\n",
       "      <th>index</th>\n",
       "      <th>label</th>\n",
       "      <th>train_test</th>\n",
       "    </tr>\n",
       "    <tr>\n",
       "      <th>id</th>\n",
       "      <th></th>\n",
       "      <th></th>\n",
       "      <th></th>\n",
       "    </tr>\n",
       "  </thead>\n",
       "  <tbody>\n",
       "    <tr>\n",
       "      <th>52</th>\n",
       "      <td>52</td>\n",
       "      <td>0</td>\n",
       "      <td>test</td>\n",
       "    </tr>\n",
       "    <tr>\n",
       "      <th>57</th>\n",
       "      <td>57</td>\n",
       "      <td>0</td>\n",
       "      <td>test</td>\n",
       "    </tr>\n",
       "    <tr>\n",
       "      <th>113</th>\n",
       "      <td>113</td>\n",
       "      <td>1</td>\n",
       "      <td>test</td>\n",
       "    </tr>\n",
       "    <tr>\n",
       "      <th>130</th>\n",
       "      <td>130</td>\n",
       "      <td>0</td>\n",
       "      <td>test</td>\n",
       "    </tr>\n",
       "    <tr>\n",
       "      <th>173</th>\n",
       "      <td>173</td>\n",
       "      <td>1</td>\n",
       "      <td>test</td>\n",
       "    </tr>\n",
       "    <tr>\n",
       "      <th>...</th>\n",
       "      <td>...</td>\n",
       "      <td>...</td>\n",
       "      <td>...</td>\n",
       "    </tr>\n",
       "    <tr>\n",
       "      <th>404156</th>\n",
       "      <td>404156</td>\n",
       "      <td>0</td>\n",
       "      <td>test</td>\n",
       "    </tr>\n",
       "    <tr>\n",
       "      <th>404200</th>\n",
       "      <td>404200</td>\n",
       "      <td>1</td>\n",
       "      <td>test</td>\n",
       "    </tr>\n",
       "    <tr>\n",
       "      <th>404251</th>\n",
       "      <td>404251</td>\n",
       "      <td>0</td>\n",
       "      <td>test</td>\n",
       "    </tr>\n",
       "    <tr>\n",
       "      <th>404277</th>\n",
       "      <td>404277</td>\n",
       "      <td>0</td>\n",
       "      <td>test</td>\n",
       "    </tr>\n",
       "    <tr>\n",
       "      <th>404286</th>\n",
       "      <td>404286</td>\n",
       "      <td>1</td>\n",
       "      <td>test</td>\n",
       "    </tr>\n",
       "  </tbody>\n",
       "</table>\n",
       "<p>9994 rows × 3 columns</p>\n",
       "</div>"
      ],
      "text/plain": [
       "         index  label train_test\n",
       "id                              \n",
       "52          52      0       test\n",
       "57          57      0       test\n",
       "113        113      1       test\n",
       "130        130      0       test\n",
       "173        173      1       test\n",
       "...        ...    ...        ...\n",
       "404156  404156      0       test\n",
       "404200  404200      1       test\n",
       "404251  404251      0       test\n",
       "404277  404277      0       test\n",
       "404286  404286      1       test\n",
       "\n",
       "[9994 rows x 3 columns]"
      ]
     },
     "execution_count": 46,
     "metadata": {},
     "output_type": "execute_result"
    }
   ],
   "source": [
    "df_test = df[df.index.isin(test_ind)]\n",
    "df_test_ind = df_test[['is_duplicate']]\n",
    "df_test_ind['train_test'] = 'test'\n",
    "df_test_ind.columns = ['label', 'train_test']\n",
    "df_test_ind['index'] = df_test_ind.index\n",
    "df_test_ind = df_test_ind[['index','label', 'train_test']]\n",
    "df_test_ind"
   ]
  },
  {
   "cell_type": "code",
   "execution_count": 47,
   "metadata": {},
   "outputs": [
    {
     "data": {
      "text/plain": [
       "0    6210\n",
       "1    3784\n",
       "Name: label, dtype: int64"
      ]
     },
     "execution_count": 47,
     "metadata": {},
     "output_type": "execute_result"
    }
   ],
   "source": [
    "df_test_ind['label'].value_counts()"
   ]
  },
  {
   "cell_type": "markdown",
   "metadata": {},
   "source": [
    "Split test set into short, medium and long sentences"
   ]
  },
  {
   "cell_type": "code",
   "execution_count": 48,
   "metadata": {
    "scrolled": true
   },
   "outputs": [],
   "source": [
    "df_test = df_test.reset_index()"
   ]
  },
  {
   "cell_type": "code",
   "execution_count": 49,
   "metadata": {},
   "outputs": [],
   "source": [
    "short_q1_test = df_test[df_test['tokenized_sents1']<6]\n",
    "short_q2_test = df_test[df_test['tokenized_sents2']<6]\n",
    "short_sents_test = list(set(short_q1_test.index.tolist()) & set(short_q2_test.index.tolist()))\n",
    "short_sents_test = sorted(short_sents_test)\n",
    "len(short_sents_test)\n",
    "\n",
    "with open('short_sents.txt', 'w') as f:\n",
    "    for item in short_sents_test:\n",
    "        f.write(\"%s\\n\" % item)"
   ]
  },
  {
   "cell_type": "code",
   "execution_count": 50,
   "metadata": {},
   "outputs": [],
   "source": [
    "medium_q1_test = df_test[(df_test['tokenized_sents1']<16) & (df_test['tokenized_sents1']>5)]\n",
    "medium_q2_test = df_test[(df_test['tokenized_sents2']<16) & (df_test['tokenized_sents2']>5)]\n",
    "medium_sents_test = list(set(medium_q1_test.index.tolist()) & set(medium_q2_test.index.tolist()))\n",
    "medium_sents_test = sorted(medium_sents_test)\n",
    "len(medium_sents_test)\n",
    "\n",
    "with open('medium_sents.txt', 'w') as f:\n",
    "    for item in medium_sents_test:\n",
    "        f.write(\"%s\\n\" % item)"
   ]
  },
  {
   "cell_type": "code",
   "execution_count": 51,
   "metadata": {},
   "outputs": [],
   "source": [
    "long_q1_test = df_test[df_test['tokenized_sents1']>15]\n",
    "long_q2_test = df_test[df_test['tokenized_sents2']>15]\n",
    "long_sents_test = list(set(long_q1_test.index.tolist()) & set(long_q2_test.index.tolist()))\n",
    "long_sents_test = sorted(long_sents_test)\n",
    "len(long_sents_test)\n",
    "\n",
    "with open('long_sents.txt', 'w') as f:\n",
    "    for item in long_sents_test:\n",
    "        f.write(\"%s\\n\" % item)"
   ]
  },
  {
   "cell_type": "code",
   "execution_count": 85,
   "metadata": {},
   "outputs": [
    {
     "data": {
      "text/plain": [
       "2399"
      ]
     },
     "execution_count": 85,
     "metadata": {},
     "output_type": "execute_result"
    }
   ],
   "source": [
    "len(medium_sents_test)"
   ]
  },
  {
   "cell_type": "code",
   "execution_count": 53,
   "metadata": {},
   "outputs": [],
   "source": [
    "match_len_sents = short_sents_test + medium_sents_test +long_sents_test"
   ]
  },
  {
   "cell_type": "code",
   "execution_count": 54,
   "metadata": {},
   "outputs": [],
   "source": [
    "dif_index = list(set(df_test.index.tolist()).symmetric_difference(match_len_sents))\n",
    "\n",
    "with open('unmatched_len.txt', 'w') as f:\n",
    "    for item in dif_index:\n",
    "        f.write(\"%s\\n\" % item)"
   ]
  },
  {
   "cell_type": "code",
   "execution_count": 55,
   "metadata": {
    "scrolled": true
   },
   "outputs": [
    {
     "data": {
      "text/plain": [
       "7176"
      ]
     },
     "execution_count": 55,
     "metadata": {},
     "output_type": "execute_result"
    }
   ],
   "source": [
    "len(short_sents_test)+len(medium_sents_test)+len(long_sents_test)"
   ]
  },
  {
   "cell_type": "code",
   "execution_count": 56,
   "metadata": {
    "scrolled": true
   },
   "outputs": [
    {
     "data": {
      "text/html": [
       "<div>\n",
       "<style scoped>\n",
       "    .dataframe tbody tr th:only-of-type {\n",
       "        vertical-align: middle;\n",
       "    }\n",
       "\n",
       "    .dataframe tbody tr th {\n",
       "        vertical-align: top;\n",
       "    }\n",
       "\n",
       "    .dataframe thead th {\n",
       "        text-align: right;\n",
       "    }\n",
       "</style>\n",
       "<table border=\"1\" class=\"dataframe\">\n",
       "  <thead>\n",
       "    <tr style=\"text-align: right;\">\n",
       "      <th></th>\n",
       "      <th>index</th>\n",
       "      <th>label</th>\n",
       "      <th>train_test</th>\n",
       "    </tr>\n",
       "    <tr>\n",
       "      <th>id</th>\n",
       "      <th></th>\n",
       "      <th></th>\n",
       "      <th></th>\n",
       "    </tr>\n",
       "  </thead>\n",
       "  <tbody>\n",
       "    <tr>\n",
       "      <th>0</th>\n",
       "      <td>0</td>\n",
       "      <td>0</td>\n",
       "      <td>train</td>\n",
       "    </tr>\n",
       "    <tr>\n",
       "      <th>1</th>\n",
       "      <td>1</td>\n",
       "      <td>0</td>\n",
       "      <td>train</td>\n",
       "    </tr>\n",
       "    <tr>\n",
       "      <th>2</th>\n",
       "      <td>2</td>\n",
       "      <td>0</td>\n",
       "      <td>train</td>\n",
       "    </tr>\n",
       "    <tr>\n",
       "      <th>3</th>\n",
       "      <td>3</td>\n",
       "      <td>0</td>\n",
       "      <td>train</td>\n",
       "    </tr>\n",
       "    <tr>\n",
       "      <th>5</th>\n",
       "      <td>5</td>\n",
       "      <td>1</td>\n",
       "      <td>train</td>\n",
       "    </tr>\n",
       "    <tr>\n",
       "      <th>...</th>\n",
       "      <td>...</td>\n",
       "      <td>...</td>\n",
       "      <td>...</td>\n",
       "    </tr>\n",
       "    <tr>\n",
       "      <th>404284</th>\n",
       "      <td>404284</td>\n",
       "      <td>1</td>\n",
       "      <td>train</td>\n",
       "    </tr>\n",
       "    <tr>\n",
       "      <th>404285</th>\n",
       "      <td>404285</td>\n",
       "      <td>0</td>\n",
       "      <td>train</td>\n",
       "    </tr>\n",
       "    <tr>\n",
       "      <th>404286</th>\n",
       "      <td>404286</td>\n",
       "      <td>1</td>\n",
       "      <td>test</td>\n",
       "    </tr>\n",
       "    <tr>\n",
       "      <th>404288</th>\n",
       "      <td>404288</td>\n",
       "      <td>0</td>\n",
       "      <td>train</td>\n",
       "    </tr>\n",
       "    <tr>\n",
       "      <th>404289</th>\n",
       "      <td>404289</td>\n",
       "      <td>0</td>\n",
       "      <td>train</td>\n",
       "    </tr>\n",
       "  </tbody>\n",
       "</table>\n",
       "<p>300934 rows × 3 columns</p>\n",
       "</div>"
      ],
      "text/plain": [
       "         index  label train_test\n",
       "id                              \n",
       "0            0      0      train\n",
       "1            1      0      train\n",
       "2            2      0      train\n",
       "3            3      0      train\n",
       "5            5      1      train\n",
       "...        ...    ...        ...\n",
       "404284  404284      1      train\n",
       "404285  404285      0      train\n",
       "404286  404286      1       test\n",
       "404288  404288      0      train\n",
       "404289  404289      0      train\n",
       "\n",
       "[300934 rows x 3 columns]"
      ]
     },
     "execution_count": 56,
     "metadata": {},
     "output_type": "execute_result"
    }
   ],
   "source": [
    "quora_train_test_split = pd.concat([df_train_ind_balanced,df_test_ind])\n",
    "quora_train_test_split_sorted = quora_train_test_split.sort_values(['index'])\n",
    "quora_train_test_split_sorted"
   ]
  },
  {
   "cell_type": "code",
   "execution_count": 57,
   "metadata": {
    "scrolled": false
   },
   "outputs": [
    {
     "data": {
      "text/plain": [
       "train    290940\n",
       "test       9994\n",
       "Name: train_test, dtype: int64"
      ]
     },
     "execution_count": 57,
     "metadata": {},
     "output_type": "execute_result"
    }
   ],
   "source": [
    "quora_train_test_split_sorted['train_test'].value_counts()"
   ]
  },
  {
   "cell_type": "code",
   "execution_count": 58,
   "metadata": {
    "scrolled": false
   },
   "outputs": [
    {
     "data": {
      "text/plain": [
       "1    145470\n",
       "0    145470\n",
       "Name: label, dtype: int64"
      ]
     },
     "execution_count": 58,
     "metadata": {},
     "output_type": "execute_result"
    }
   ],
   "source": [
    "quora_train_test_split_sorted[quora_train_test_split_sorted['train_test']=='train']['label'].value_counts()"
   ]
  },
  {
   "cell_type": "code",
   "execution_count": 59,
   "metadata": {},
   "outputs": [],
   "source": [
    "np.random.seed(11)\n",
    "remove_n = 190000\n",
    "drop_indices1 = np.random.choice(quora_train_test_split_sorted[quora_train_test_split_sorted['train_test']=='train'].index, remove_n, replace=False)\n",
    "quora_train_test_split_subset = quora_train_test_split_sorted.drop(drop_indices1)"
   ]
  },
  {
   "cell_type": "markdown",
   "metadata": {},
   "source": [
    "Subsample the dataset"
   ]
  },
  {
   "cell_type": "code",
   "execution_count": 60,
   "metadata": {
    "scrolled": false
   },
   "outputs": [
    {
     "data": {
      "text/plain": [
       "1    50673\n",
       "0    50267\n",
       "Name: label, dtype: int64"
      ]
     },
     "execution_count": 60,
     "metadata": {},
     "output_type": "execute_result"
    }
   ],
   "source": [
    "quora_train_test_split_subset[quora_train_test_split_subset['train_test']=='train']['label'].value_counts()"
   ]
  },
  {
   "cell_type": "markdown",
   "metadata": {},
   "source": [
    "Need to also remove the droped indices from the cleaned questions"
   ]
  },
  {
   "cell_type": "code",
   "execution_count": 61,
   "metadata": {},
   "outputs": [],
   "source": [
    "df_final = df[df.index.isin(quora_train_test_split_subset.index)]"
   ]
  },
  {
   "cell_type": "code",
   "execution_count": 62,
   "metadata": {
    "scrolled": false
   },
   "outputs": [
    {
     "data": {
      "text/html": [
       "<div>\n",
       "<style scoped>\n",
       "    .dataframe tbody tr th:only-of-type {\n",
       "        vertical-align: middle;\n",
       "    }\n",
       "\n",
       "    .dataframe tbody tr th {\n",
       "        vertical-align: top;\n",
       "    }\n",
       "\n",
       "    .dataframe thead th {\n",
       "        text-align: right;\n",
       "    }\n",
       "</style>\n",
       "<table border=\"1\" class=\"dataframe\">\n",
       "  <thead>\n",
       "    <tr style=\"text-align: right;\">\n",
       "      <th></th>\n",
       "      <th>question1</th>\n",
       "      <th>question2</th>\n",
       "      <th>is_duplicate</th>\n",
       "      <th>question1_clean</th>\n",
       "      <th>question2_clean</th>\n",
       "      <th>question1_clean_clean</th>\n",
       "      <th>question2_clean_clean</th>\n",
       "      <th>tokenized_sents1</th>\n",
       "      <th>tokenized_sents2</th>\n",
       "    </tr>\n",
       "    <tr>\n",
       "      <th>id</th>\n",
       "      <th></th>\n",
       "      <th></th>\n",
       "      <th></th>\n",
       "      <th></th>\n",
       "      <th></th>\n",
       "      <th></th>\n",
       "      <th></th>\n",
       "      <th></th>\n",
       "      <th></th>\n",
       "    </tr>\n",
       "  </thead>\n",
       "  <tbody>\n",
       "    <tr>\n",
       "      <th>0</th>\n",
       "      <td>What is the step by step guide to invest in sh...</td>\n",
       "      <td>What is the step by step guide to invest in sh...</td>\n",
       "      <td>0</td>\n",
       "      <td>step step guide invest share market india \\?</td>\n",
       "      <td>step step guide invest share market \\?</td>\n",
       "      <td>step step guide invest share market india</td>\n",
       "      <td>step step guide invest share market</td>\n",
       "      <td>7</td>\n",
       "      <td>6</td>\n",
       "    </tr>\n",
       "    <tr>\n",
       "      <th>1</th>\n",
       "      <td>What is the story of Kohinoor (Koh-i-Noor) Dia...</td>\n",
       "      <td>What would happen if the Indian government sto...</td>\n",
       "      <td>0</td>\n",
       "      <td>story kohinoor \\( koh noor \\) diamond \\?</td>\n",
       "      <td>would happen indian government stole kohinoor ...</td>\n",
       "      <td>story kohinoor koh noor diamond</td>\n",
       "      <td>would happen indian government stole kohinoor ...</td>\n",
       "      <td>5</td>\n",
       "      <td>10</td>\n",
       "    </tr>\n",
       "    <tr>\n",
       "      <th>2</th>\n",
       "      <td>How can I increase the speed of my internet co...</td>\n",
       "      <td>How can Internet speed be increased by hacking...</td>\n",
       "      <td>0</td>\n",
       "      <td>increase speed internet connection using vpn \\?</td>\n",
       "      <td>internet speed increased hacking dns \\?</td>\n",
       "      <td>increase speed internet connection using vpn</td>\n",
       "      <td>internet speed increased hacking dns</td>\n",
       "      <td>6</td>\n",
       "      <td>5</td>\n",
       "    </tr>\n",
       "    <tr>\n",
       "      <th>3</th>\n",
       "      <td>Why am I mentally very lonely? How can I solve...</td>\n",
       "      <td>Find the remainder when [math]23^{24}[/math] i...</td>\n",
       "      <td>0</td>\n",
       "      <td>mentally lonely \\? solve \\?</td>\n",
       "      <td>find remainder math 23 24 math divided 24 , 23 \\?</td>\n",
       "      <td>mentally lonely solve</td>\n",
       "      <td>find remainder math 23 24 math divided 24 23</td>\n",
       "      <td>3</td>\n",
       "      <td>9</td>\n",
       "    </tr>\n",
       "    <tr>\n",
       "      <th>6</th>\n",
       "      <td>Should I buy tiago?</td>\n",
       "      <td>What keeps childern active and far from phone ...</td>\n",
       "      <td>0</td>\n",
       "      <td>buy tiago \\?</td>\n",
       "      <td>keeps childern active far phone video games \\?</td>\n",
       "      <td>buy tiago</td>\n",
       "      <td>keeps childern active far phone video games</td>\n",
       "      <td>2</td>\n",
       "      <td>7</td>\n",
       "    </tr>\n",
       "    <tr>\n",
       "      <th>...</th>\n",
       "      <td>...</td>\n",
       "      <td>...</td>\n",
       "      <td>...</td>\n",
       "      <td>...</td>\n",
       "      <td>...</td>\n",
       "      <td>...</td>\n",
       "      <td>...</td>\n",
       "      <td>...</td>\n",
       "      <td>...</td>\n",
       "    </tr>\n",
       "    <tr>\n",
       "      <th>404277</th>\n",
       "      <td>What does analytics do?</td>\n",
       "      <td>What are analytical people like?</td>\n",
       "      <td>0</td>\n",
       "      <td>analytics \\?</td>\n",
       "      <td>analytical people like \\?</td>\n",
       "      <td>analytics</td>\n",
       "      <td>analytical people like</td>\n",
       "      <td>1</td>\n",
       "      <td>3</td>\n",
       "    </tr>\n",
       "    <tr>\n",
       "      <th>404280</th>\n",
       "      <td>What are some outfit ideas to wear to a frat p...</td>\n",
       "      <td>What are some outfit ideas wear to a frat them...</td>\n",
       "      <td>1</td>\n",
       "      <td>outfit ideas wear frat party \\?</td>\n",
       "      <td>outfit ideas wear frat themed party \\?</td>\n",
       "      <td>outfit ideas wear frat party</td>\n",
       "      <td>outfit ideas wear frat themed party</td>\n",
       "      <td>5</td>\n",
       "      <td>6</td>\n",
       "    </tr>\n",
       "    <tr>\n",
       "      <th>404286</th>\n",
       "      <td>Do you believe there is life after death?</td>\n",
       "      <td>Is it true that there is life after death?</td>\n",
       "      <td>1</td>\n",
       "      <td>believe life death \\?</td>\n",
       "      <td>true life death \\?</td>\n",
       "      <td>believe life death</td>\n",
       "      <td>true life death</td>\n",
       "      <td>3</td>\n",
       "      <td>3</td>\n",
       "    </tr>\n",
       "    <tr>\n",
       "      <th>404288</th>\n",
       "      <td>What is the approx annual cost of living while...</td>\n",
       "      <td>I am having little hairfall problem but I want...</td>\n",
       "      <td>0</td>\n",
       "      <td>approx annual cost living studying uic chicago...</td>\n",
       "      <td>little hairfall problem want use hair styling ...</td>\n",
       "      <td>approx annual cost living studying uic chicago...</td>\n",
       "      <td>little hairfall problem want use hair styling ...</td>\n",
       "      <td>9</td>\n",
       "      <td>13</td>\n",
       "    </tr>\n",
       "    <tr>\n",
       "      <th>404289</th>\n",
       "      <td>What is like to have sex with cousin?</td>\n",
       "      <td>What is it like to have sex with your cousin?</td>\n",
       "      <td>0</td>\n",
       "      <td>like sex cousin \\?</td>\n",
       "      <td>like sex cousin \\?</td>\n",
       "      <td>like sex cousin</td>\n",
       "      <td>like sex cousin</td>\n",
       "      <td>3</td>\n",
       "      <td>3</td>\n",
       "    </tr>\n",
       "  </tbody>\n",
       "</table>\n",
       "<p>110934 rows × 9 columns</p>\n",
       "</div>"
      ],
      "text/plain": [
       "                                                question1  \\\n",
       "id                                                          \n",
       "0       What is the step by step guide to invest in sh...   \n",
       "1       What is the story of Kohinoor (Koh-i-Noor) Dia...   \n",
       "2       How can I increase the speed of my internet co...   \n",
       "3       Why am I mentally very lonely? How can I solve...   \n",
       "6                                     Should I buy tiago?   \n",
       "...                                                   ...   \n",
       "404277                            What does analytics do?   \n",
       "404280  What are some outfit ideas to wear to a frat p...   \n",
       "404286          Do you believe there is life after death?   \n",
       "404288  What is the approx annual cost of living while...   \n",
       "404289              What is like to have sex with cousin?   \n",
       "\n",
       "                                                question2  is_duplicate  \\\n",
       "id                                                                        \n",
       "0       What is the step by step guide to invest in sh...             0   \n",
       "1       What would happen if the Indian government sto...             0   \n",
       "2       How can Internet speed be increased by hacking...             0   \n",
       "3       Find the remainder when [math]23^{24}[/math] i...             0   \n",
       "6       What keeps childern active and far from phone ...             0   \n",
       "...                                                   ...           ...   \n",
       "404277                   What are analytical people like?             0   \n",
       "404280  What are some outfit ideas wear to a frat them...             1   \n",
       "404286         Is it true that there is life after death?             1   \n",
       "404288  I am having little hairfall problem but I want...             0   \n",
       "404289      What is it like to have sex with your cousin?             0   \n",
       "\n",
       "                                          question1_clean  \\\n",
       "id                                                          \n",
       "0            step step guide invest share market india \\?   \n",
       "1                story kohinoor \\( koh noor \\) diamond \\?   \n",
       "2         increase speed internet connection using vpn \\?   \n",
       "3                             mentally lonely \\? solve \\?   \n",
       "6                                            buy tiago \\?   \n",
       "...                                                   ...   \n",
       "404277                                       analytics \\?   \n",
       "404280                    outfit ideas wear frat party \\?   \n",
       "404286                              believe life death \\?   \n",
       "404288  approx annual cost living studying uic chicago...   \n",
       "404289                                 like sex cousin \\?   \n",
       "\n",
       "                                          question2_clean  \\\n",
       "id                                                          \n",
       "0                  step step guide invest share market \\?   \n",
       "1       would happen indian government stole kohinoor ...   \n",
       "2                 internet speed increased hacking dns \\?   \n",
       "3       find remainder math 23 24 math divided 24 , 23 \\?   \n",
       "6          keeps childern active far phone video games \\?   \n",
       "...                                                   ...   \n",
       "404277                          analytical people like \\?   \n",
       "404280             outfit ideas wear frat themed party \\?   \n",
       "404286                                 true life death \\?   \n",
       "404288  little hairfall problem want use hair styling ...   \n",
       "404289                                 like sex cousin \\?   \n",
       "\n",
       "                                    question1_clean_clean  \\\n",
       "id                                                          \n",
       "0              step step guide invest share market india    \n",
       "1                        story kohinoor koh noor diamond    \n",
       "2           increase speed internet connection using vpn    \n",
       "3                                  mentally lonely solve    \n",
       "6                                              buy tiago    \n",
       "...                                                   ...   \n",
       "404277                                         analytics    \n",
       "404280                      outfit ideas wear frat party    \n",
       "404286                                believe life death    \n",
       "404288  approx annual cost living studying uic chicago...   \n",
       "404289                                   like sex cousin    \n",
       "\n",
       "                                    question2_clean_clean  tokenized_sents1  \\\n",
       "id                                                                            \n",
       "0                    step step guide invest share market                  7   \n",
       "1       would happen indian government stole kohinoor ...                 5   \n",
       "2                   internet speed increased hacking dns                  6   \n",
       "3           find remainder math 23 24 math divided 24 23                  3   \n",
       "6            keeps childern active far phone video games                  2   \n",
       "...                                                   ...               ...   \n",
       "404277                            analytical people like                  1   \n",
       "404280               outfit ideas wear frat themed party                  5   \n",
       "404286                                   true life death                  3   \n",
       "404288  little hairfall problem want use hair styling ...                 9   \n",
       "404289                                   like sex cousin                  3   \n",
       "\n",
       "        tokenized_sents2  \n",
       "id                        \n",
       "0                      6  \n",
       "1                     10  \n",
       "2                      5  \n",
       "3                      9  \n",
       "6                      7  \n",
       "...                  ...  \n",
       "404277                 3  \n",
       "404280                 6  \n",
       "404286                 3  \n",
       "404288                13  \n",
       "404289                 3  \n",
       "\n",
       "[110934 rows x 9 columns]"
      ]
     },
     "execution_count": 62,
     "metadata": {},
     "output_type": "execute_result"
    }
   ],
   "source": [
    "df_final"
   ]
  },
  {
   "cell_type": "code",
   "execution_count": 63,
   "metadata": {},
   "outputs": [],
   "source": [
    "question1 = df_final['question1_clean_clean']\n",
    "question1_final_bal_sub = question1.str.replace('\\\\n', ' ', regex= True)"
   ]
  },
  {
   "cell_type": "code",
   "execution_count": 64,
   "metadata": {},
   "outputs": [],
   "source": [
    "question2 = df_final['question2_clean_clean']\n",
    "question2_final_bal_sub = question2.str.replace('\\\\n', ' ', regex= True)"
   ]
  },
  {
   "cell_type": "code",
   "execution_count": 65,
   "metadata": {},
   "outputs": [],
   "source": [
    "np.savetxt('C:\\\\Users\\\\danie\\\\PycharmProjects\\\\NLP_project\\\\data\\\\corpus\\\\question1_sub_bal.clean.txt', question1_final_bal_sub.values, fmt = '%s', encoding = 'utf-8', delimiter ='\\n')\n",
    "np.savetxt('C:\\\\Users\\\\danie\\\\PycharmProjects\\\\NLP_project\\\\data\\\\corpus\\\\question2_sub_bal.clean.txt', question2_final_bal_sub.values, fmt = '%s', encoding = 'utf-8', delimiter ='\\n')"
   ]
  },
  {
   "cell_type": "code",
   "execution_count": 66,
   "metadata": {},
   "outputs": [],
   "source": [
    "np.savetxt('C:\\\\Users\\\\danie\\\\PycharmProjects\\\\NLP_project\\\\data\\\\quora_split_balanced_subset.txt', quora_train_test_split_subset.values, fmt='%s', delimiter='\\t')"
   ]
  },
  {
   "cell_type": "markdown",
   "metadata": {},
   "source": [
    "#### Check where the DNN and GNN differ in their classification - i.e. whether one is better on short or long sentences for exmaple"
   ]
  },
  {
   "cell_type": "code",
   "execution_count": 67,
   "metadata": {},
   "outputs": [],
   "source": [
    "indices_dnn_right = np.loadtxt('indices_dnn_right.txt')\n",
    "indices_dnn_right = indices_dnn_right[:-1]\n",
    "indices_gnn_right = np.loadtxt('indices_gnn_right.txt')"
   ]
  },
  {
   "cell_type": "code",
   "execution_count": 68,
   "metadata": {},
   "outputs": [
    {
     "name": "stdout",
     "output_type": "stream",
     "text": [
      "GNN: mean sentence 1 length:5.4747583243823845\n",
      "GNN: variance sentence 1 length:9.160211407758322\n",
      "GNN: mean sentence 2 length:5.564983888292159\n",
      "GNN: variance sentence 2 length:10.142662164079793\n",
      "GNN: mean sentence 1 and sentence 2 length difference:1.8968850698174007\n",
      "GNN: variance sentence 1 and sentence 2 length difference:6.257895775190586\n",
      "------------------------------------------------------------\n",
      "DNN: mean sentence 1 length:5.664265129682997\n",
      "DNN: variance sentence 1 length:10.297944921060758\n",
      "DNN: mean sentence 2 length:5.739193083573487\n",
      "DNN: variance sentence 2 length:11.469443729289315\n",
      "DNN: mean sentence 1 and sentence 2 length difference:1.9164265129682998\n",
      "DNN: variance sentence 1 and sentence 2 length difference:6.583793570248045\n",
      "------------------------------------------------------------\n"
     ]
    }
   ],
   "source": [
    "print('GNN: mean sentence 1 length:' + str(df_test.iloc[indices_gnn_right]['tokenized_sents1'].mean()))\n",
    "print('GNN: variance sentence 1 length:' + str(np.var(df_test.iloc[indices_gnn_right]['tokenized_sents1'])))\n",
    "print('GNN: mean sentence 2 length:' + str(df_test.iloc[indices_gnn_right]['tokenized_sents2'].mean()))\n",
    "print('GNN: variance sentence 2 length:' + str(np.var(df_test.iloc[indices_gnn_right]['tokenized_sents2'])))\n",
    "print('GNN: mean sentence 1 and sentence 2 length difference:' + str(abs(df_test.iloc[indices_gnn_right]['tokenized_sents1']-(df_test.iloc[indices_gnn_right]['tokenized_sents2'])).mean()))\n",
    "print('GNN: variance sentence 1 and sentence 2 length difference:' + str(np.var(np.absolute(df_test.iloc[indices_gnn_right]['tokenized_sents1']-df_test.iloc[indices_gnn_right]['tokenized_sents2']))))\n",
    "print('-'*60)\n",
    "print('DNN: mean sentence 1 length:' + str(df_test.iloc[indices_dnn_right]['tokenized_sents1'].mean()))\n",
    "print('DNN: variance sentence 1 length:' + str(np.var(df_test.iloc[indices_dnn_right]['tokenized_sents1'])))\n",
    "print('DNN: mean sentence 2 length:' + str(df_test.iloc[indices_dnn_right]['tokenized_sents2'].mean()))\n",
    "print('DNN: variance sentence 2 length:' + str(np.var(df_test.iloc[indices_dnn_right]['tokenized_sents2'])))\n",
    "print('DNN: mean sentence 1 and sentence 2 length difference:' + str(abs(df_test.iloc[indices_dnn_right]['tokenized_sents1']-df_test.iloc[indices_dnn_right]['tokenized_sents2']).mean()))\n",
    "print('DNN: variance sentence 1 and sentence 2 length difference:' + str(np.var(np.absolute(df_test.iloc[indices_dnn_right]['tokenized_sents1']-df_test.iloc[indices_dnn_right]['tokenized_sents2']))))\n",
    "print('-'*60)"
   ]
  },
  {
   "cell_type": "code",
   "execution_count": 69,
   "metadata": {},
   "outputs": [
    {
     "name": "stdout",
     "output_type": "stream",
     "text": [
      "5\n"
     ]
    }
   ],
   "source": [
    "from collections import Counter \n",
    "  \n",
    "def most_frequent(List): \n",
    "    occurence_count = Counter(List) \n",
    "    return occurence_count.most_common(1)[0][0] \n",
    "    \n",
    "\n",
    "print(most_frequent(df_test.iloc[indices_dnn_right]['tokenized_sents2'])) "
   ]
  },
  {
   "cell_type": "code",
   "execution_count": null,
   "metadata": {},
   "outputs": [],
   "source": []
  },
  {
   "cell_type": "code",
   "execution_count": 70,
   "metadata": {},
   "outputs": [],
   "source": [
    "indices_inductive_15 = np.loadtxt('inductive_ind_15.txt')\n"
   ]
  },
  {
   "cell_type": "code",
   "execution_count": 71,
   "metadata": {},
   "outputs": [
    {
     "name": "stdout",
     "output_type": "stream",
     "text": [
      "mean sentence 1 length:5.696312364425163\n",
      "variance sentence 1 length:9.525995078133453\n",
      "mean sentence 2 length:5.5249457700650755\n",
      "variance sentence 2 length:9.017273587080815\n",
      "------------------------------------------------------------\n"
     ]
    }
   ],
   "source": [
    "print('mean sentence 1 length:' + str(df_test.iloc[indices_inductive_15]['tokenized_sents1'].mean()))\n",
    "print('variance sentence 1 length:' + str(np.var(df_test.iloc[indices_inductive_15]['tokenized_sents1'])))\n",
    "print('mean sentence 2 length:' + str(df_test.iloc[indices_inductive_15]['tokenized_sents2'].mean()))\n",
    "print('variance sentence 2 length:' + str(np.var(df_test.iloc[indices_inductive_15]['tokenized_sents2'])))\n",
    "\n",
    "print('-'*60)\n"
   ]
  },
  {
   "cell_type": "code",
   "execution_count": 76,
   "metadata": {},
   "outputs": [
    {
     "name": "stdout",
     "output_type": "stream",
     "text": [
      "min train sentence length:1\n",
      "min train sentence length:1\n",
      "min test sentence length:1\n",
      "min test sentence length:1\n"
     ]
    }
   ],
   "source": [
    "print('min train sentence length:' +str(df_train['tokenized_sents1'].min()))\n",
    "print('min train sentence length:' +str(df_train['tokenized_sents2'].min()))\n",
    "print('min test sentence length:' +str(df_test['tokenized_sents1'].min()))\n",
    "print('min test sentence length:' +str(df_test['tokenized_sents2'].min()))"
   ]
  },
  {
   "cell_type": "code",
   "execution_count": 75,
   "metadata": {
    "scrolled": true
   },
   "outputs": [
    {
     "name": "stdout",
     "output_type": "stream",
     "text": [
      "mean train sentence length:5.5879742690177245\n",
      "mean train sentence length:5.6559725021704805\n",
      "mean test sentence length:5.6039623774264555\n",
      "mean test sentence length:5.685311186712028\n"
     ]
    }
   ],
   "source": [
    "print('mean train sentence length:' +str(df_train['tokenized_sents1'].mean()))\n",
    "print('mean train sentence length:' +str(df_train['tokenized_sents2'].mean()))\n",
    "print('mean test sentence length:' +str(df_test['tokenized_sents1'].mean()))\n",
    "print('mean test sentence length:' +str(df_test['tokenized_sents2'].mean()))"
   ]
  },
  {
   "cell_type": "code",
   "execution_count": 77,
   "metadata": {},
   "outputs": [
    {
     "name": "stdout",
     "output_type": "stream",
     "text": [
      "max train sentence length:30\n",
      "max train sentence length:30\n",
      "max test sentence length:31\n",
      "max test sentence length:44\n"
     ]
    }
   ],
   "source": [
    "print('max train sentence length:' +str(df_train['tokenized_sents1'].max()))\n",
    "print('max train sentence length:' +str(df_train['tokenized_sents2'].max()))\n",
    "print('max test sentence length:' +str(df_test['tokenized_sents1'].max()))\n",
    "print('max test sentence length:' +str(df_test['tokenized_sents2'].max()))"
   ]
  },
  {
   "cell_type": "code",
   "execution_count": null,
   "metadata": {},
   "outputs": [],
   "source": []
  }
 ],
 "metadata": {
  "kernelspec": {
   "display_name": "Python 3",
   "language": "python",
   "name": "python3"
  },
  "language_info": {
   "codemirror_mode": {
    "name": "ipython",
    "version": 3
   },
   "file_extension": ".py",
   "mimetype": "text/x-python",
   "name": "python",
   "nbconvert_exporter": "python",
   "pygments_lexer": "ipython3",
   "version": "3.7.9"
  }
 },
 "nbformat": 4,
 "nbformat_minor": 4
}
